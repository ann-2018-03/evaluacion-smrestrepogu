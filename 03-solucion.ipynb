{
 "cells": [
  {
   "cell_type": "code",
   "execution_count": 1,
   "metadata": {},
   "outputs": [],
   "source": [
    "import os"
   ]
  },
  {
   "cell_type": "markdown",
   "metadata": {},
   "source": [
    "# Limpieza del texto: "
   ]
  },
  {
   "cell_type": "markdown",
   "metadata": {},
   "source": [
    "Fuente usada para limpiar texto https://machinelearningmastery.com/clean-text-machine-learning-python/"
   ]
  },
  {
   "cell_type": "markdown",
   "metadata": {},
   "source": [
    "### Abrimos los archivos y agrupamos los sms por tipos."
   ]
  },
  {
   "cell_type": "code",
   "execution_count": 2,
   "metadata": {},
   "outputs": [],
   "source": [
    "easy_ham = 'C:/Users/Lenovo/Desktop/Trabajo de Redes/datos/spam-filter/easy_ham'\n",
    "spam = 'C:/Users/Lenovo/Desktop/Trabajo de Redes/datos/spam-filter/spam'\n",
    "spam_2 = 'C:/Users/Lenovo/Desktop/Trabajo de Redes/datos/spam-filter/spam_2'\n",
    "\n",
    "ham_files = [os.path.join(easy_ham, f) for f in os.listdir(easy_ham)]\n",
    "spam_files = [os.path.join(spam, f) for f in os.listdir(spam)]\n",
    "spam_files += [os.path.join(spam_2, f) for f in os.listdir(spam_2)]"
   ]
  },
  {
   "cell_type": "code",
   "execution_count": 3,
   "metadata": {},
   "outputs": [
    {
     "name": "stdout",
     "output_type": "stream",
     "text": [
      "2501\n",
      "1899\n"
     ]
    }
   ],
   "source": [
    "print(len(ham_files))\n",
    "print(len(spam_files))"
   ]
  },
  {
   "cell_type": "code",
   "execution_count": 4,
   "metadata": {
    "scrolled": true
   },
   "outputs": [
    {
     "data": {
      "text/plain": [
       "['From Steve_Burt@cursor-system.com  Thu Aug 22 12:46:39 2002\\n',\n",
       " 'Return-Path: <Steve_Burt@cursor-system.com>\\n',\n",
       " 'Delivered-To: zzzz@localhost.netnoteinc.com\\n',\n",
       " 'Received: from localhost (localhost [127.0.0.1])\\n',\n",
       " '\\tby phobos.labs.netnoteinc.com (Postfix) with ESMTP id BE12E43C34\\n',\n",
       " '\\tfor <zzzz@localhost>; Thu, 22 Aug 2002 07:46:38 -0400 (EDT)\\n',\n",
       " 'Received: from phobos [127.0.0.1]\\n',\n",
       " '\\tby localhost with IMAP (fetchmail-5.9.0)\\n',\n",
       " '\\tfor zzzz@localhost (single-drop); Thu, 22 Aug 2002 12:46:38 +0100 (IST)\\n',\n",
       " 'Received: from n20.grp.scd.yahoo.com (n20.grp.scd.yahoo.com\\n',\n",
       " '    [66.218.66.76]) by dogma.slashnull.org (8.11.6/8.11.6) with SMTP id\\n',\n",
       " '    g7MBkTZ05087 for <zzzz@spamassassin.taint.org>; Thu, 22 Aug 2002 12:46:29 +0100\\n',\n",
       " 'X-Egroups-Return: sentto-2242572-52726-1030016790-zzzz=spamassassin.taint.org@returns.groups.yahoo.com\\n',\n",
       " 'Received: from [66.218.67.196] by n20.grp.scd.yahoo.com with NNFMP;\\n',\n",
       " '    22 Aug 2002 11:46:30 -0000\\n',\n",
       " 'X-Sender: steve.burt@cursor-system.com\\n',\n",
       " 'X-Apparently-To: zzzzteana@yahoogroups.com\\n',\n",
       " 'Received: (EGP: mail-8_1_0_1); 22 Aug 2002 11:46:29 -0000\\n',\n",
       " 'Received: (qmail 11764 invoked from network); 22 Aug 2002 11:46:29 -0000\\n',\n",
       " 'Received: from unknown (66.218.66.217) by m3.grp.scd.yahoo.com with QMQP;\\n',\n",
       " '    22 Aug 2002 11:46:29 -0000\\n',\n",
       " 'Received: from unknown (HELO mailgateway.cursor-system.com) (62.189.7.27)\\n',\n",
       " '    by mta2.grp.scd.yahoo.com with SMTP; 22 Aug 2002 11:46:29 -0000\\n',\n",
       " 'Received: from exchange1.cps.local (unverified) by\\n',\n",
       " '    mailgateway.cursor-system.com (Content Technologies SMTPRS 4.2.10) with\\n',\n",
       " '    ESMTP id <T5cde81f695ac1d100407d@mailgateway.cursor-system.com> for\\n',\n",
       " '    <forteana@yahoogroups.com>; Thu, 22 Aug 2002 13:14:10 +0100\\n',\n",
       " 'Received: by exchange1.cps.local with Internet Mail Service (5.5.2653.19)\\n',\n",
       " '    id <PXX6AT23>; Thu, 22 Aug 2002 12:46:27 +0100\\n',\n",
       " 'Message-Id: <5EC2AD6D2314D14FB64BDA287D25D9EF12B4F6@exchange1.cps.local>\\n',\n",
       " 'To: \"\\'zzzzteana@yahoogroups.com\\'\" <zzzzteana@yahoogroups.com>\\n',\n",
       " 'X-Mailer: Internet Mail Service (5.5.2653.19)\\n',\n",
       " 'X-Egroups-From: Steve Burt <steve.burt@cursor-system.com>\\n',\n",
       " 'From: Steve Burt <Steve_Burt@cursor-system.com>\\n',\n",
       " 'X-Yahoo-Profile: pyruse\\n',\n",
       " 'MIME-Version: 1.0\\n',\n",
       " 'Mailing-List: list zzzzteana@yahoogroups.com; contact\\n',\n",
       " '    forteana-owner@yahoogroups.com\\n',\n",
       " 'Delivered-To: mailing list zzzzteana@yahoogroups.com\\n',\n",
       " 'Precedence: bulk\\n',\n",
       " 'List-Unsubscribe: <mailto:zzzzteana-unsubscribe@yahoogroups.com>\\n',\n",
       " 'Date: Thu, 22 Aug 2002 12:46:18 +0100\\n',\n",
       " 'Subject: [zzzzteana] RE: Alexander\\n',\n",
       " 'Reply-To: zzzzteana@yahoogroups.com\\n',\n",
       " 'Content-Type: text/plain; charset=US-ASCII\\n',\n",
       " 'Content-Transfer-Encoding: 7bit\\n',\n",
       " '\\n',\n",
       " 'Martin A posted:\\n',\n",
       " 'Tassos Papadopoulos, the Greek sculptor behind the plan, judged that the\\n',\n",
       " ' limestone of Mount Kerdylio, 70 miles east of Salonika and not far from the\\n',\n",
       " ' Mount Athos monastic community, was ideal for the patriotic sculpture. \\n',\n",
       " ' \\n',\n",
       " \" As well as Alexander's granite features, 240 ft high and 170 ft wide, a\\n\",\n",
       " ' museum, a restored amphitheatre and car park for admiring crowds are\\n',\n",
       " 'planned\\n',\n",
       " '---------------------\\n',\n",
       " 'So is this mountain limestone or granite?\\n',\n",
       " \"If it's limestone, it'll weather pretty fast.\\n\",\n",
       " '\\n',\n",
       " '------------------------ Yahoo! Groups Sponsor ---------------------~-->\\n',\n",
       " '4 DVDs Free +s&p Join Now\\n',\n",
       " 'http://us.click.yahoo.com/pt6YBB/NXiEAA/mG3HAA/7gSolB/TM\\n',\n",
       " '---------------------------------------------------------------------~->\\n',\n",
       " '\\n',\n",
       " 'To unsubscribe from this group, send an email to:\\n',\n",
       " 'forteana-unsubscribe@egroups.com\\n',\n",
       " '\\n',\n",
       " ' \\n',\n",
       " '\\n',\n",
       " 'Your use of Yahoo! Groups is subject to http://docs.yahoo.com/info/terms/ \\n',\n",
       " '\\n',\n",
       " '\\n',\n",
       " '\\n']"
      ]
     },
     "execution_count": 4,
     "metadata": {},
     "output_type": "execute_result"
    }
   ],
   "source": [
    "open(ham_files[1], encoding='latin-1').readlines()"
   ]
  },
  {
   "cell_type": "code",
   "execution_count": 5,
   "metadata": {},
   "outputs": [
    {
     "data": {
      "text/plain": [
       "['From ilug-admin@linux.ie  Thu Aug 22 13:27:39 2002\\n',\n",
       " 'Return-Path: <ilug-admin@linux.ie>\\n',\n",
       " 'Delivered-To: zzzz@localhost.spamassassin.taint.org\\n',\n",
       " 'Received: from localhost (localhost [127.0.0.1])\\n',\n",
       " '\\tby phobos.labs.spamassassin.taint.org (Postfix) with ESMTP id A7FD7454F6\\n',\n",
       " '\\tfor <zzzz@localhost>; Thu, 22 Aug 2002 08:27:38 -0400 (EDT)\\n',\n",
       " 'Received: from phobos [127.0.0.1]\\n',\n",
       " '\\tby localhost with IMAP (fetchmail-5.9.0)\\n',\n",
       " '\\tfor zzzz@localhost (single-drop); Thu, 22 Aug 2002 13:27:38 +0100 (IST)\\n',\n",
       " 'Received: from lugh.tuatha.org (root@lugh.tuatha.org [194.125.145.45]) by\\n',\n",
       " '    dogma.slashnull.org (8.11.6/8.11.6) with ESMTP id g7MCJiZ06043 for\\n',\n",
       " '    <zzzz-ilug@jmason.org>; Thu, 22 Aug 2002 13:19:44 +0100\\n',\n",
       " 'Received: from lugh (root@localhost [127.0.0.1]) by lugh.tuatha.org\\n',\n",
       " '    (8.9.3/8.9.3) with ESMTP id NAA29323; Thu, 22 Aug 2002 13:18:52 +0100\\n',\n",
       " 'Received: from email.qves.com ([67.104.83.251]) by lugh.tuatha.org\\n',\n",
       " '    (8.9.3/8.9.3) with ESMTP id NAA29282 for <ilug@linux.ie>; Thu,\\n',\n",
       " '    22 Aug 2002 13:18:37 +0100\\n',\n",
       " 'X-Authentication-Warning: lugh.tuatha.org: Host [67.104.83.251] claimed to\\n',\n",
       " '    be email.qves.com\\n',\n",
       " 'Received: from qvp0091 ([169.254.6.22]) by email.qves.com with Microsoft\\n',\n",
       " '    SMTPSVC(5.0.2195.2966); Thu, 22 Aug 2002 06:18:18 -0600\\n',\n",
       " 'From: \"Slim Down\" <taylor@s3.serveimage.com>\\n',\n",
       " 'To: <ilug@linux.ie>\\n',\n",
       " 'Date: Thu, 22 Aug 2002 06:18:18 -0600\\n',\n",
       " 'Message-Id: <59e6301c249d5$ffb7ea20$1606fea9@freeyankeedom.com>\\n',\n",
       " 'MIME-Version: 1.0\\n',\n",
       " 'Content-Type: text/plain; charset=\"iso-8859-1\"\\n',\n",
       " 'Content-Transfer-Encoding: 7bit\\n',\n",
       " 'X-Mailer: Microsoft CDO for Windows 2000\\n',\n",
       " 'Thread-Index: AcJJ1f+3FWdz11AmR6uWbmQN5gGxxw==\\n',\n",
       " 'Content-Class: urn:content-classes:message\\n',\n",
       " 'X-Mimeole: Produced By Microsoft MimeOLE V6.00.2462.0000\\n',\n",
       " 'X-Originalarrivaltime: 22 Aug 2002 12:18:18.0699 (UTC) FILETIME=[FFB949B0:01C249D5]\\n',\n",
       " 'Subject: [ILUG] Guaranteed to lose 10-12 lbs in 30 days 10.206\\n',\n",
       " 'Sender: ilug-admin@linux.ie\\n',\n",
       " 'Errors-To: ilug-admin@linux.ie\\n',\n",
       " 'X-Mailman-Version: 1.1\\n',\n",
       " 'Precedence: bulk\\n',\n",
       " \"List-Id: Irish Linux Users' Group <ilug.linux.ie>\\n\",\n",
       " 'X-Beenthere: ilug@linux.ie\\n',\n",
       " '\\n',\n",
       " '1) Fight The Risk of Cancer!\\n',\n",
       " 'http://www.adclick.ws/p.cfm?o=315&s=pk007\\n',\n",
       " '\\n',\n",
       " '2) Slim Down - Guaranteed to lose 10-12 lbs in 30 days\\n',\n",
       " 'http://www.adclick.ws/p.cfm?o=249&s=pk007\\n',\n",
       " '\\n',\n",
       " '3) Get the Child Support You Deserve - Free Legal Advice\\n',\n",
       " 'http://www.adclick.ws/p.cfm?o=245&s=pk002\\n',\n",
       " '\\n',\n",
       " \"4) Join the Web's Fastest Growing Singles Community\\n\",\n",
       " 'http://www.adclick.ws/p.cfm?o=259&s=pk007\\n',\n",
       " '\\n',\n",
       " '5) Start Your Private Photo Album Online!\\n',\n",
       " 'http://www.adclick.ws/p.cfm?o=283&s=pk007\\n',\n",
       " '\\n',\n",
       " 'Have a Wonderful Day,\\n',\n",
       " 'Offer Manager\\n',\n",
       " 'PrizeMama\\n',\n",
       " '\\n',\n",
       " '\\n',\n",
       " '\\n',\n",
       " '\\n',\n",
       " '\\n',\n",
       " '\\n',\n",
       " '\\n',\n",
       " '\\n',\n",
       " '\\n',\n",
       " '\\n',\n",
       " '\\n',\n",
       " '\\n',\n",
       " '\\n',\n",
       " 'If you wish to leave this list please use the link below.\\n',\n",
       " 'http://www.qves.com/trim/?ilug@linux.ie%7C17%7C114258\\n',\n",
       " '\\n',\n",
       " '\\n',\n",
       " '-- \\n',\n",
       " \"Irish Linux Users' Group: ilug@linux.ie\\n\",\n",
       " 'http://www.linux.ie/mailman/listinfo/ilug for (un)subscription information.\\n',\n",
       " 'List maintainer: listmaster@linux.ie\\n',\n",
       " '\\n']"
      ]
     },
     "execution_count": 5,
     "metadata": {},
     "output_type": "execute_result"
    }
   ],
   "source": [
    "open(spam_files[1], encoding='latin-1').readlines()"
   ]
  },
  {
   "cell_type": "markdown",
   "metadata": {},
   "source": [
    "### Eliminamos el primero bloque de mensajes de texto (sms), el codigo debe parar donde encuentre la primera linea en blanco"
   ]
  },
  {
   "cell_type": "code",
   "execution_count": 6,
   "metadata": {},
   "outputs": [],
   "source": [
    "ham_sms = []\n",
    "\n",
    "for file in ham_files:\n",
    "    with open(file, encoding='latin-1') as f:\n",
    "        lines = f.readlines()\n",
    "        for line in lines:\n",
    "            lines = lines[1:]\n",
    "            if line == '\\n':\n",
    "                break\n",
    "        ham_sms.append(lines)"
   ]
  },
  {
   "cell_type": "code",
   "execution_count": 7,
   "metadata": {},
   "outputs": [],
   "source": [
    "spam_sms = []\n",
    "\n",
    "for file in spam_files:\n",
    "    with open(file, encoding='latin-1') as f:\n",
    "        lines = f.readlines()\n",
    "        for line in lines:\n",
    "            lines = lines[1:]\n",
    "            if line == '\\n':\n",
    "                break\n",
    "        spam_sms.append(lines)"
   ]
  },
  {
   "cell_type": "code",
   "execution_count": 8,
   "metadata": {
    "scrolled": true
   },
   "outputs": [
    {
     "data": {
      "text/plain": [
       "['Martin A posted:\\n',\n",
       " 'Tassos Papadopoulos, the Greek sculptor behind the plan, judged that the\\n',\n",
       " ' limestone of Mount Kerdylio, 70 miles east of Salonika and not far from the\\n',\n",
       " ' Mount Athos monastic community, was ideal for the patriotic sculpture. \\n',\n",
       " ' \\n',\n",
       " \" As well as Alexander's granite features, 240 ft high and 170 ft wide, a\\n\",\n",
       " ' museum, a restored amphitheatre and car park for admiring crowds are\\n',\n",
       " 'planned\\n',\n",
       " '---------------------\\n',\n",
       " 'So is this mountain limestone or granite?\\n',\n",
       " \"If it's limestone, it'll weather pretty fast.\\n\",\n",
       " '\\n',\n",
       " '------------------------ Yahoo! Groups Sponsor ---------------------~-->\\n',\n",
       " '4 DVDs Free +s&p Join Now\\n',\n",
       " 'http://us.click.yahoo.com/pt6YBB/NXiEAA/mG3HAA/7gSolB/TM\\n',\n",
       " '---------------------------------------------------------------------~->\\n',\n",
       " '\\n',\n",
       " 'To unsubscribe from this group, send an email to:\\n',\n",
       " 'forteana-unsubscribe@egroups.com\\n',\n",
       " '\\n',\n",
       " ' \\n',\n",
       " '\\n',\n",
       " 'Your use of Yahoo! Groups is subject to http://docs.yahoo.com/info/terms/ \\n',\n",
       " '\\n',\n",
       " '\\n',\n",
       " '\\n']"
      ]
     },
     "execution_count": 8,
     "metadata": {},
     "output_type": "execute_result"
    }
   ],
   "source": [
    "ham_sms[1]"
   ]
  },
  {
   "cell_type": "code",
   "execution_count": 9,
   "metadata": {
    "scrolled": true
   },
   "outputs": [
    {
     "data": {
      "text/plain": [
       "['1) Fight The Risk of Cancer!\\n',\n",
       " 'http://www.adclick.ws/p.cfm?o=315&s=pk007\\n',\n",
       " '\\n',\n",
       " '2) Slim Down - Guaranteed to lose 10-12 lbs in 30 days\\n',\n",
       " 'http://www.adclick.ws/p.cfm?o=249&s=pk007\\n',\n",
       " '\\n',\n",
       " '3) Get the Child Support You Deserve - Free Legal Advice\\n',\n",
       " 'http://www.adclick.ws/p.cfm?o=245&s=pk002\\n',\n",
       " '\\n',\n",
       " \"4) Join the Web's Fastest Growing Singles Community\\n\",\n",
       " 'http://www.adclick.ws/p.cfm?o=259&s=pk007\\n',\n",
       " '\\n',\n",
       " '5) Start Your Private Photo Album Online!\\n',\n",
       " 'http://www.adclick.ws/p.cfm?o=283&s=pk007\\n',\n",
       " '\\n',\n",
       " 'Have a Wonderful Day,\\n',\n",
       " 'Offer Manager\\n',\n",
       " 'PrizeMama\\n',\n",
       " '\\n',\n",
       " '\\n',\n",
       " '\\n',\n",
       " '\\n',\n",
       " '\\n',\n",
       " '\\n',\n",
       " '\\n',\n",
       " '\\n',\n",
       " '\\n',\n",
       " '\\n',\n",
       " '\\n',\n",
       " '\\n',\n",
       " '\\n',\n",
       " 'If you wish to leave this list please use the link below.\\n',\n",
       " 'http://www.qves.com/trim/?ilug@linux.ie%7C17%7C114258\\n',\n",
       " '\\n',\n",
       " '\\n',\n",
       " '-- \\n',\n",
       " \"Irish Linux Users' Group: ilug@linux.ie\\n\",\n",
       " 'http://www.linux.ie/mailman/listinfo/ilug for (un)subscription information.\\n',\n",
       " 'List maintainer: listmaster@linux.ie\\n',\n",
       " '\\n']"
      ]
     },
     "execution_count": 9,
     "metadata": {},
     "output_type": "execute_result"
    }
   ],
   "source": [
    "spam_sms[1]"
   ]
  },
  {
   "cell_type": "markdown",
   "metadata": {},
   "source": [
    "### Por medio de expresiones regulares, eliminamos, emails, url y etiquetas"
   ]
  },
  {
   "cell_type": "code",
   "execution_count": 10,
   "metadata": {},
   "outputs": [],
   "source": [
    "import re\n",
    "\n",
    "html_tags = re.compile(r'<[^>]+>')\n",
    "urls = re.compile(r'http[s]?://(?:[a-zA-Z]|[0-9]|[$-_@.&+]|[!*\\(\\),]|(?:%[0-9a-fA-F][0-9a-fA-F]))+')\n",
    "email = re.compile(r'\\S*@\\S*\\s?')"
   ]
  },
  {
   "cell_type": "code",
   "execution_count": 11,
   "metadata": {},
   "outputs": [],
   "source": [
    "for i, file in enumerate(ham_sms):\n",
    "    text = ''.join(file)\n",
    "    \n",
    "    text = re.sub(html_tags, '', text)\n",
    "    text = re.sub(urls, '', text)\n",
    "    text = re.sub(email, '', text)\n",
    "    \n",
    "    text = text.split('\\n')\n",
    "    ham_sms[i] = text"
   ]
  },
  {
   "cell_type": "code",
   "execution_count": 12,
   "metadata": {},
   "outputs": [],
   "source": [
    "for i, file in enumerate(spam_sms):\n",
    "    text = ''.join(file)\n",
    "    \n",
    "    text = re.sub(html_tags, '', text)\n",
    "    text = re.sub(urls, '', text)\n",
    "    text = re.sub(email, '', text)\n",
    "    \n",
    "    text = text.split('\\n')\n",
    "    spam_sms[i] = text"
   ]
  },
  {
   "cell_type": "code",
   "execution_count": 13,
   "metadata": {
    "scrolled": true
   },
   "outputs": [
    {
     "data": {
      "text/plain": [
       "['Martin A posted:',\n",
       " 'Tassos Papadopoulos, the Greek sculptor behind the plan, judged that the',\n",
       " ' limestone of Mount Kerdylio, 70 miles east of Salonika and not far from the',\n",
       " ' Mount Athos monastic community, was ideal for the patriotic sculpture. ',\n",
       " ' ',\n",
       " \" As well as Alexander's granite features, 240 ft high and 170 ft wide, a\",\n",
       " ' museum, a restored amphitheatre and car park for admiring crowds are',\n",
       " 'planned',\n",
       " '---------------------',\n",
       " 'So is this mountain limestone or granite?',\n",
       " \"If it's limestone, it'll weather pretty fast.\",\n",
       " '',\n",
       " '------------------------ Yahoo! Groups Sponsor ---------------------~-->',\n",
       " '4 DVDs Free +s&p Join Now',\n",
       " '',\n",
       " '---------------------------------------------------------------------~->',\n",
       " '',\n",
       " 'To unsubscribe from this group, send an email to:',\n",
       " '',\n",
       " ' ',\n",
       " '',\n",
       " 'Your use of Yahoo! Groups is subject to  ',\n",
       " '',\n",
       " '',\n",
       " '',\n",
       " '']"
      ]
     },
     "execution_count": 13,
     "metadata": {},
     "output_type": "execute_result"
    }
   ],
   "source": [
    "ham_sms[1]"
   ]
  },
  {
   "cell_type": "code",
   "execution_count": 14,
   "metadata": {
    "scrolled": true
   },
   "outputs": [
    {
     "data": {
      "text/plain": [
       "['1) Fight The Risk of Cancer!',\n",
       " '',\n",
       " '',\n",
       " '2) Slim Down - Guaranteed to lose 10-12 lbs in 30 days',\n",
       " '',\n",
       " '',\n",
       " '3) Get the Child Support You Deserve - Free Legal Advice',\n",
       " '',\n",
       " '',\n",
       " \"4) Join the Web's Fastest Growing Singles Community\",\n",
       " '',\n",
       " '',\n",
       " '5) Start Your Private Photo Album Online!',\n",
       " '',\n",
       " '',\n",
       " 'Have a Wonderful Day,',\n",
       " 'Offer Manager',\n",
       " 'PrizeMama',\n",
       " '',\n",
       " '',\n",
       " '',\n",
       " '',\n",
       " '',\n",
       " '',\n",
       " '',\n",
       " '',\n",
       " '',\n",
       " '',\n",
       " '',\n",
       " '',\n",
       " '',\n",
       " 'If you wish to leave this list please use the link below.',\n",
       " '',\n",
       " '',\n",
       " '',\n",
       " '-- ',\n",
       " \"Irish Linux Users' Group:  for (un)subscription information.\",\n",
       " 'List maintainer: ',\n",
       " '']"
      ]
     },
     "execution_count": 14,
     "metadata": {},
     "output_type": "execute_result"
    }
   ],
   "source": [
    "spam_sms[1]"
   ]
  },
  {
   "cell_type": "markdown",
   "metadata": {},
   "source": [
    "### Eliminar líneas vacías y espacios en blanco al inicio y fin de línea"
   ]
  },
  {
   "cell_type": "code",
   "execution_count": 15,
   "metadata": {},
   "outputs": [],
   "source": [
    "for i, file in enumerate(ham_sms):\n",
    "    newdoc = []\n",
    "    for line in file:\n",
    "        line = line.strip()\n",
    "        if line:\n",
    "            newdoc.append(line)\n",
    "    ham_sms[i] = newdoc"
   ]
  },
  {
   "cell_type": "code",
   "execution_count": 16,
   "metadata": {},
   "outputs": [],
   "source": [
    "for i, file in enumerate(spam_sms):\n",
    "    newdoc = []\n",
    "    for line in file:\n",
    "        line = line.strip()\n",
    "        if line:\n",
    "            newdoc.append(line)\n",
    "    spam_sms[i] = newdoc"
   ]
  },
  {
   "cell_type": "code",
   "execution_count": 17,
   "metadata": {
    "scrolled": true
   },
   "outputs": [
    {
     "data": {
      "text/plain": [
       "['Martin A posted:',\n",
       " 'Tassos Papadopoulos, the Greek sculptor behind the plan, judged that the',\n",
       " 'limestone of Mount Kerdylio, 70 miles east of Salonika and not far from the',\n",
       " 'Mount Athos monastic community, was ideal for the patriotic sculpture.',\n",
       " \"As well as Alexander's granite features, 240 ft high and 170 ft wide, a\",\n",
       " 'museum, a restored amphitheatre and car park for admiring crowds are',\n",
       " 'planned',\n",
       " '---------------------',\n",
       " 'So is this mountain limestone or granite?',\n",
       " \"If it's limestone, it'll weather pretty fast.\",\n",
       " '------------------------ Yahoo! Groups Sponsor ---------------------~-->',\n",
       " '4 DVDs Free +s&p Join Now',\n",
       " '---------------------------------------------------------------------~->',\n",
       " 'To unsubscribe from this group, send an email to:',\n",
       " 'Your use of Yahoo! Groups is subject to']"
      ]
     },
     "execution_count": 17,
     "metadata": {},
     "output_type": "execute_result"
    }
   ],
   "source": [
    "ham_sms[1]"
   ]
  },
  {
   "cell_type": "code",
   "execution_count": 18,
   "metadata": {},
   "outputs": [
    {
     "data": {
      "text/plain": [
       "['1) Fight The Risk of Cancer!',\n",
       " '2) Slim Down - Guaranteed to lose 10-12 lbs in 30 days',\n",
       " '3) Get the Child Support You Deserve - Free Legal Advice',\n",
       " \"4) Join the Web's Fastest Growing Singles Community\",\n",
       " '5) Start Your Private Photo Album Online!',\n",
       " 'Have a Wonderful Day,',\n",
       " 'Offer Manager',\n",
       " 'PrizeMama',\n",
       " 'If you wish to leave this list please use the link below.',\n",
       " '--',\n",
       " \"Irish Linux Users' Group:  for (un)subscription information.\",\n",
       " 'List maintainer:']"
      ]
     },
     "execution_count": 18,
     "metadata": {},
     "output_type": "execute_result"
    }
   ],
   "source": [
    "spam_sms[1]"
   ]
  },
  {
   "cell_type": "markdown",
   "metadata": {},
   "source": [
    "### Con expresiones regulares eliminanos los pares restantes"
   ]
  },
  {
   "cell_type": "code",
   "execution_count": 19,
   "metadata": {},
   "outputs": [],
   "source": [
    "keys_v = re.compile(r'([a-zA-Z]|[0-9]|[-_.&+])+:')"
   ]
  },
  {
   "cell_type": "code",
   "execution_count": 20,
   "metadata": {},
   "outputs": [],
   "source": [
    "for i, file in enumerate(ham_sms):\n",
    "    newdoc = []\n",
    "    for line in file:\n",
    "        if not re.match(keys_v, line):\n",
    "            newdoc.append(line)\n",
    "    ham_sms[i] = newdoc"
   ]
  },
  {
   "cell_type": "code",
   "execution_count": 21,
   "metadata": {},
   "outputs": [],
   "source": [
    "for i, file in enumerate(spam_sms):\n",
    "    newdoc = []\n",
    "    for line in file:\n",
    "        if not re.match(keys_v, line):\n",
    "            newdoc.append(line)\n",
    "    spam_sms[i] = newdoc"
   ]
  },
  {
   "cell_type": "code",
   "execution_count": 22,
   "metadata": {
    "scrolled": true
   },
   "outputs": [
    {
     "data": {
      "text/plain": [
       "['Martin A posted:',\n",
       " 'Tassos Papadopoulos, the Greek sculptor behind the plan, judged that the',\n",
       " 'limestone of Mount Kerdylio, 70 miles east of Salonika and not far from the',\n",
       " 'Mount Athos monastic community, was ideal for the patriotic sculpture.',\n",
       " \"As well as Alexander's granite features, 240 ft high and 170 ft wide, a\",\n",
       " 'museum, a restored amphitheatre and car park for admiring crowds are',\n",
       " 'planned',\n",
       " '---------------------',\n",
       " 'So is this mountain limestone or granite?',\n",
       " \"If it's limestone, it'll weather pretty fast.\",\n",
       " '------------------------ Yahoo! Groups Sponsor ---------------------~-->',\n",
       " '4 DVDs Free +s&p Join Now',\n",
       " '---------------------------------------------------------------------~->',\n",
       " 'To unsubscribe from this group, send an email to:',\n",
       " 'Your use of Yahoo! Groups is subject to']"
      ]
     },
     "execution_count": 22,
     "metadata": {},
     "output_type": "execute_result"
    }
   ],
   "source": [
    "ham_sms[1]"
   ]
  },
  {
   "cell_type": "code",
   "execution_count": 23,
   "metadata": {},
   "outputs": [
    {
     "data": {
      "text/plain": [
       "['1) Fight The Risk of Cancer!',\n",
       " '2) Slim Down - Guaranteed to lose 10-12 lbs in 30 days',\n",
       " '3) Get the Child Support You Deserve - Free Legal Advice',\n",
       " \"4) Join the Web's Fastest Growing Singles Community\",\n",
       " '5) Start Your Private Photo Album Online!',\n",
       " 'Have a Wonderful Day,',\n",
       " 'Offer Manager',\n",
       " 'PrizeMama',\n",
       " 'If you wish to leave this list please use the link below.',\n",
       " '--',\n",
       " \"Irish Linux Users' Group:  for (un)subscription information.\",\n",
       " 'List maintainer:']"
      ]
     },
     "execution_count": 23,
     "metadata": {},
     "output_type": "execute_result"
    }
   ],
   "source": [
    "spam_sms[1]"
   ]
  },
  {
   "cell_type": "markdown",
   "metadata": {},
   "source": [
    "### Eliminamos simbolos que representan bastante ruido en el texto"
   ]
  },
  {
   "cell_type": "code",
   "execution_count": 24,
   "metadata": {},
   "outputs": [],
   "source": [
    "symbols = re.compile(r'[-_!¡#$%&\\/\\¿?\"\\'<=>,;:\\[\\]\\(\\)\\\\\\+\\.\\}\\{~\\`¨\\^\\|°@\\+*]+')"
   ]
  },
  {
   "cell_type": "code",
   "execution_count": 25,
   "metadata": {},
   "outputs": [],
   "source": [
    "for i, file in enumerate(ham_sms):\n",
    "    text = ' '.join(file)\n",
    "    text = re.sub(symbols, ' ', text)\n",
    "    ham_sms[i] = text"
   ]
  },
  {
   "cell_type": "code",
   "execution_count": 26,
   "metadata": {},
   "outputs": [],
   "source": [
    "for i, file in enumerate(spam_sms):\n",
    "    text = ' '.join(file)\n",
    "    text = re.sub(symbols, ' ', text)\n",
    "    spam_sms[i] = text"
   ]
  },
  {
   "cell_type": "code",
   "execution_count": 27,
   "metadata": {
    "scrolled": true
   },
   "outputs": [
    {
     "data": {
      "text/plain": [
       "'Martin A posted  Tassos Papadopoulos  the Greek sculptor behind the plan  judged that the limestone of Mount Kerdylio  70 miles east of Salonika and not far from the Mount Athos monastic community  was ideal for the patriotic sculpture  As well as Alexander s granite features  240 ft high and 170 ft wide  a museum  a restored amphitheatre and car park for admiring crowds are planned   So is this mountain limestone or granite  If it s limestone  it ll weather pretty fast    Yahoo  Groups Sponsor   4 DVDs Free  s p Join Now   To unsubscribe from this group  send an email to  Your use of Yahoo  Groups is subject to'"
      ]
     },
     "execution_count": 27,
     "metadata": {},
     "output_type": "execute_result"
    }
   ],
   "source": [
    "ham_sms[1]"
   ]
  },
  {
   "cell_type": "code",
   "execution_count": 28,
   "metadata": {
    "scrolled": false
   },
   "outputs": [
    {
     "data": {
      "text/plain": [
       "'1  Fight The Risk of Cancer  2  Slim Down   Guaranteed to lose 10 12 lbs in 30 days 3  Get the Child Support You Deserve   Free Legal Advice 4  Join the Web s Fastest Growing Singles Community 5  Start Your Private Photo Album Online  Have a Wonderful Day  Offer Manager PrizeMama If you wish to leave this list please use the link below    Irish Linux Users  Group   for  un subscription information  List maintainer '"
      ]
     },
     "execution_count": 28,
     "metadata": {},
     "output_type": "execute_result"
    }
   ],
   "source": [
    "spam_sms[1]"
   ]
  },
  {
   "cell_type": "markdown",
   "metadata": {},
   "source": [
    "### Transformar el texto a minúscula"
   ]
  },
  {
   "cell_type": "code",
   "execution_count": 29,
   "metadata": {},
   "outputs": [],
   "source": [
    "ham_sms_lower = [file.lower() for file in ham_sms]\n",
    "spam_sms_lower = [file.lower() for file in spam_sms]"
   ]
  },
  {
   "cell_type": "code",
   "execution_count": 30,
   "metadata": {},
   "outputs": [
    {
     "data": {
      "text/plain": [
       "'martin a posted  tassos papadopoulos  the greek sculptor behind the plan  judged that the limestone of mount kerdylio  70 miles east of salonika and not far from the mount athos monastic community  was ideal for the patriotic sculpture  as well as alexander s granite features  240 ft high and 170 ft wide  a museum  a restored amphitheatre and car park for admiring crowds are planned   so is this mountain limestone or granite  if it s limestone  it ll weather pretty fast    yahoo  groups sponsor   4 dvds free  s p join now   to unsubscribe from this group  send an email to  your use of yahoo  groups is subject to'"
      ]
     },
     "execution_count": 30,
     "metadata": {},
     "output_type": "execute_result"
    }
   ],
   "source": [
    "ham_sms_lower[1]"
   ]
  },
  {
   "cell_type": "code",
   "execution_count": 31,
   "metadata": {},
   "outputs": [
    {
     "data": {
      "text/plain": [
       "'1  fight the risk of cancer  2  slim down   guaranteed to lose 10 12 lbs in 30 days 3  get the child support you deserve   free legal advice 4  join the web s fastest growing singles community 5  start your private photo album online  have a wonderful day  offer manager prizemama if you wish to leave this list please use the link below    irish linux users  group   for  un subscription information  list maintainer '"
      ]
     },
     "execution_count": 31,
     "metadata": {},
     "output_type": "execute_result"
    }
   ],
   "source": [
    "spam_sms_lower[1]"
   ]
  },
  {
   "cell_type": "markdown",
   "metadata": {},
   "source": [
    "### Eliminar los números"
   ]
  },
  {
   "cell_type": "code",
   "execution_count": 32,
   "metadata": {},
   "outputs": [],
   "source": [
    "from string import digits\n",
    "\n",
    "r_digits = str.maketrans('', '', digits)"
   ]
  },
  {
   "cell_type": "code",
   "execution_count": 33,
   "metadata": {},
   "outputs": [],
   "source": [
    "ham_sms_lower = [file.translate(r_digits) for file in ham_sms_lower]\n",
    "spam_sms_lower = [file.translate(r_digits) for file in spam_sms_lower]"
   ]
  },
  {
   "cell_type": "code",
   "execution_count": 34,
   "metadata": {},
   "outputs": [
    {
     "data": {
      "text/plain": [
       "'martin a posted  tassos papadopoulos  the greek sculptor behind the plan  judged that the limestone of mount kerdylio   miles east of salonika and not far from the mount athos monastic community  was ideal for the patriotic sculpture  as well as alexander s granite features   ft high and  ft wide  a museum  a restored amphitheatre and car park for admiring crowds are planned   so is this mountain limestone or granite  if it s limestone  it ll weather pretty fast    yahoo  groups sponsor    dvds free  s p join now   to unsubscribe from this group  send an email to  your use of yahoo  groups is subject to'"
      ]
     },
     "execution_count": 34,
     "metadata": {},
     "output_type": "execute_result"
    }
   ],
   "source": [
    "ham_sms_lower[1]"
   ]
  },
  {
   "cell_type": "code",
   "execution_count": 35,
   "metadata": {
    "scrolled": false
   },
   "outputs": [
    {
     "data": {
      "text/plain": [
       "'  fight the risk of cancer    slim down   guaranteed to lose   lbs in  days   get the child support you deserve   free legal advice   join the web s fastest growing singles community   start your private photo album online  have a wonderful day  offer manager prizemama if you wish to leave this list please use the link below    irish linux users  group   for  un subscription information  list maintainer '"
      ]
     },
     "execution_count": 35,
     "metadata": {},
     "output_type": "execute_result"
    }
   ],
   "source": [
    "spam_sms_lower[1]"
   ]
  },
  {
   "cell_type": "markdown",
   "metadata": {},
   "source": [
    "### Transformar texto a tokens y verificar que no existan tokens no alfabéticos"
   ]
  },
  {
   "cell_type": "code",
   "execution_count": 36,
   "metadata": {},
   "outputs": [
    {
     "name": "stderr",
     "output_type": "stream",
     "text": [
      "[nltk_data] Downloading package punkt to\n",
      "[nltk_data]     C:\\Users\\Lenovo\\AppData\\Roaming\\nltk_data...\n",
      "[nltk_data]   Package punkt is already up-to-date!\n"
     ]
    },
    {
     "data": {
      "text/plain": [
       "True"
      ]
     },
     "execution_count": 36,
     "metadata": {},
     "output_type": "execute_result"
    }
   ],
   "source": [
    "import nltk\n",
    "from nltk.tokenize import word_tokenize\n",
    "\n",
    "nltk.download('punkt')"
   ]
  },
  {
   "cell_type": "code",
   "execution_count": 37,
   "metadata": {},
   "outputs": [],
   "source": [
    "ham_sms_tokens = [word_tokenize(file) for file in ham_sms_lower]\n",
    "spam_sms_tokens = [word_tokenize(file) for file in spam_sms_lower]"
   ]
  },
  {
   "cell_type": "code",
   "execution_count": 38,
   "metadata": {},
   "outputs": [],
   "source": [
    "for i, file in enumerate(ham_sms_tokens):\n",
    "    ham_sms_tokens[i] = [token for token in file if token.isalpha()]"
   ]
  },
  {
   "cell_type": "code",
   "execution_count": 39,
   "metadata": {},
   "outputs": [],
   "source": [
    "for i, file in enumerate(spam_sms_tokens):\n",
    "    spam_sms_tokens[i] = [token for token in file if token.isalpha()]"
   ]
  },
  {
   "cell_type": "code",
   "execution_count": 40,
   "metadata": {},
   "outputs": [
    {
     "data": {
      "text/plain": [
       "['martin',\n",
       " 'a',\n",
       " 'posted',\n",
       " 'tassos',\n",
       " 'papadopoulos',\n",
       " 'the',\n",
       " 'greek',\n",
       " 'sculptor',\n",
       " 'behind',\n",
       " 'the',\n",
       " 'plan',\n",
       " 'judged',\n",
       " 'that',\n",
       " 'the',\n",
       " 'limestone',\n",
       " 'of',\n",
       " 'mount',\n",
       " 'kerdylio',\n",
       " 'miles',\n",
       " 'east',\n",
       " 'of',\n",
       " 'salonika',\n",
       " 'and',\n",
       " 'not',\n",
       " 'far',\n",
       " 'from',\n",
       " 'the',\n",
       " 'mount',\n",
       " 'athos',\n",
       " 'monastic',\n",
       " 'community',\n",
       " 'was',\n",
       " 'ideal',\n",
       " 'for',\n",
       " 'the',\n",
       " 'patriotic',\n",
       " 'sculpture',\n",
       " 'as',\n",
       " 'well',\n",
       " 'as',\n",
       " 'alexander',\n",
       " 's',\n",
       " 'granite',\n",
       " 'features',\n",
       " 'ft',\n",
       " 'high',\n",
       " 'and',\n",
       " 'ft',\n",
       " 'wide',\n",
       " 'a',\n",
       " 'museum',\n",
       " 'a',\n",
       " 'restored',\n",
       " 'amphitheatre',\n",
       " 'and',\n",
       " 'car',\n",
       " 'park',\n",
       " 'for',\n",
       " 'admiring',\n",
       " 'crowds',\n",
       " 'are',\n",
       " 'planned',\n",
       " 'so',\n",
       " 'is',\n",
       " 'this',\n",
       " 'mountain',\n",
       " 'limestone',\n",
       " 'or',\n",
       " 'granite',\n",
       " 'if',\n",
       " 'it',\n",
       " 's',\n",
       " 'limestone',\n",
       " 'it',\n",
       " 'll',\n",
       " 'weather',\n",
       " 'pretty',\n",
       " 'fast',\n",
       " 'yahoo',\n",
       " 'groups',\n",
       " 'sponsor',\n",
       " 'dvds',\n",
       " 'free',\n",
       " 's',\n",
       " 'p',\n",
       " 'join',\n",
       " 'now',\n",
       " 'to',\n",
       " 'unsubscribe',\n",
       " 'from',\n",
       " 'this',\n",
       " 'group',\n",
       " 'send',\n",
       " 'an',\n",
       " 'email',\n",
       " 'to',\n",
       " 'your',\n",
       " 'use',\n",
       " 'of',\n",
       " 'yahoo',\n",
       " 'groups',\n",
       " 'is',\n",
       " 'subject',\n",
       " 'to']"
      ]
     },
     "execution_count": 40,
     "metadata": {},
     "output_type": "execute_result"
    }
   ],
   "source": [
    "ham_sms_tokens[1]"
   ]
  },
  {
   "cell_type": "code",
   "execution_count": 41,
   "metadata": {},
   "outputs": [
    {
     "data": {
      "text/plain": [
       "['fight',\n",
       " 'the',\n",
       " 'risk',\n",
       " 'of',\n",
       " 'cancer',\n",
       " 'slim',\n",
       " 'down',\n",
       " 'guaranteed',\n",
       " 'to',\n",
       " 'lose',\n",
       " 'lbs',\n",
       " 'in',\n",
       " 'days',\n",
       " 'get',\n",
       " 'the',\n",
       " 'child',\n",
       " 'support',\n",
       " 'you',\n",
       " 'deserve',\n",
       " 'free',\n",
       " 'legal',\n",
       " 'advice',\n",
       " 'join',\n",
       " 'the',\n",
       " 'web',\n",
       " 's',\n",
       " 'fastest',\n",
       " 'growing',\n",
       " 'singles',\n",
       " 'community',\n",
       " 'start',\n",
       " 'your',\n",
       " 'private',\n",
       " 'photo',\n",
       " 'album',\n",
       " 'online',\n",
       " 'have',\n",
       " 'a',\n",
       " 'wonderful',\n",
       " 'day',\n",
       " 'offer',\n",
       " 'manager',\n",
       " 'prizemama',\n",
       " 'if',\n",
       " 'you',\n",
       " 'wish',\n",
       " 'to',\n",
       " 'leave',\n",
       " 'this',\n",
       " 'list',\n",
       " 'please',\n",
       " 'use',\n",
       " 'the',\n",
       " 'link',\n",
       " 'below',\n",
       " 'irish',\n",
       " 'linux',\n",
       " 'users',\n",
       " 'group',\n",
       " 'for',\n",
       " 'un',\n",
       " 'subscription',\n",
       " 'information',\n",
       " 'list',\n",
       " 'maintainer']"
      ]
     },
     "execution_count": 41,
     "metadata": {},
     "output_type": "execute_result"
    }
   ],
   "source": [
    "spam_sms_tokens[1]"
   ]
  },
  {
   "cell_type": "markdown",
   "metadata": {},
   "source": [
    "### Eliminar acentos y las tildes"
   ]
  },
  {
   "cell_type": "code",
   "execution_count": 42,
   "metadata": {},
   "outputs": [
    {
     "name": "stdout",
     "output_type": "stream",
     "text": [
      "Requirement already satisfied: unidecode in c:\\users\\lenovo\\nueva carpeta\\lib\\site-packages (1.0.23)\n"
     ]
    }
   ],
   "source": [
    "!pip install unidecode"
   ]
  },
  {
   "cell_type": "code",
   "execution_count": 43,
   "metadata": {},
   "outputs": [],
   "source": [
    "from unidecode import unidecode\n",
    "\n",
    "for i, file in enumerate(ham_sms_tokens):\n",
    "    ham_sms_tokens[i] = [unidecode(token) for token in file]\n",
    "    \n",
    "for i, file in enumerate(spam_sms_tokens):\n",
    "    spam_sms_tokens[i] = [unidecode(token) for token in file]"
   ]
  },
  {
   "cell_type": "markdown",
   "metadata": {},
   "source": [
    "### Eliminar Stop Words"
   ]
  },
  {
   "cell_type": "code",
   "execution_count": 44,
   "metadata": {},
   "outputs": [
    {
     "name": "stderr",
     "output_type": "stream",
     "text": [
      "[nltk_data] Downloading package stopwords to\n",
      "[nltk_data]     C:\\Users\\Lenovo\\AppData\\Roaming\\nltk_data...\n",
      "[nltk_data]   Package stopwords is already up-to-date!\n"
     ]
    }
   ],
   "source": [
    "import nltk\n",
    "from nltk.corpus import stopwords\n",
    "\n",
    "nltk.download('stopwords')\n",
    "stop_words = set(stopwords.words('english'))"
   ]
  },
  {
   "cell_type": "code",
   "execution_count": 45,
   "metadata": {},
   "outputs": [],
   "source": [
    "for i, file in enumerate(ham_sms_tokens):\n",
    "    ham_sms_tokens[i] = [token for token in file if not token in stop_words]"
   ]
  },
  {
   "cell_type": "code",
   "execution_count": 46,
   "metadata": {},
   "outputs": [],
   "source": [
    "for i, file in enumerate(spam_sms_tokens):\n",
    "    spam_sms_tokens[i] = [token for token in file if not token in stop_words]"
   ]
  },
  {
   "cell_type": "code",
   "execution_count": 47,
   "metadata": {},
   "outputs": [
    {
     "data": {
      "text/plain": [
       "['martin',\n",
       " 'posted',\n",
       " 'tassos',\n",
       " 'papadopoulos',\n",
       " 'greek',\n",
       " 'sculptor',\n",
       " 'behind',\n",
       " 'plan',\n",
       " 'judged',\n",
       " 'limestone',\n",
       " 'mount',\n",
       " 'kerdylio',\n",
       " 'miles',\n",
       " 'east',\n",
       " 'salonika',\n",
       " 'far',\n",
       " 'mount',\n",
       " 'athos',\n",
       " 'monastic',\n",
       " 'community',\n",
       " 'ideal',\n",
       " 'patriotic',\n",
       " 'sculpture',\n",
       " 'well',\n",
       " 'alexander',\n",
       " 'granite',\n",
       " 'features',\n",
       " 'ft',\n",
       " 'high',\n",
       " 'ft',\n",
       " 'wide',\n",
       " 'museum',\n",
       " 'restored',\n",
       " 'amphitheatre',\n",
       " 'car',\n",
       " 'park',\n",
       " 'admiring',\n",
       " 'crowds',\n",
       " 'planned',\n",
       " 'mountain',\n",
       " 'limestone',\n",
       " 'granite',\n",
       " 'limestone',\n",
       " 'weather',\n",
       " 'pretty',\n",
       " 'fast',\n",
       " 'yahoo',\n",
       " 'groups',\n",
       " 'sponsor',\n",
       " 'dvds',\n",
       " 'free',\n",
       " 'p',\n",
       " 'join',\n",
       " 'unsubscribe',\n",
       " 'group',\n",
       " 'send',\n",
       " 'email',\n",
       " 'use',\n",
       " 'yahoo',\n",
       " 'groups',\n",
       " 'subject']"
      ]
     },
     "execution_count": 47,
     "metadata": {},
     "output_type": "execute_result"
    }
   ],
   "source": [
    "ham_sms_tokens[1]"
   ]
  },
  {
   "cell_type": "code",
   "execution_count": 48,
   "metadata": {},
   "outputs": [
    {
     "data": {
      "text/plain": [
       "['fight',\n",
       " 'risk',\n",
       " 'cancer',\n",
       " 'slim',\n",
       " 'guaranteed',\n",
       " 'lose',\n",
       " 'lbs',\n",
       " 'days',\n",
       " 'get',\n",
       " 'child',\n",
       " 'support',\n",
       " 'deserve',\n",
       " 'free',\n",
       " 'legal',\n",
       " 'advice',\n",
       " 'join',\n",
       " 'web',\n",
       " 'fastest',\n",
       " 'growing',\n",
       " 'singles',\n",
       " 'community',\n",
       " 'start',\n",
       " 'private',\n",
       " 'photo',\n",
       " 'album',\n",
       " 'online',\n",
       " 'wonderful',\n",
       " 'day',\n",
       " 'offer',\n",
       " 'manager',\n",
       " 'prizemama',\n",
       " 'wish',\n",
       " 'leave',\n",
       " 'list',\n",
       " 'please',\n",
       " 'use',\n",
       " 'link',\n",
       " 'irish',\n",
       " 'linux',\n",
       " 'users',\n",
       " 'group',\n",
       " 'un',\n",
       " 'subscription',\n",
       " 'information',\n",
       " 'list',\n",
       " 'maintainer']"
      ]
     },
     "execution_count": 48,
     "metadata": {},
     "output_type": "execute_result"
    }
   ],
   "source": [
    "spam_sms_tokens[1]"
   ]
  },
  {
   "cell_type": "markdown",
   "metadata": {},
   "source": [
    "### Eliminar conjugaciones"
   ]
  },
  {
   "cell_type": "code",
   "execution_count": 49,
   "metadata": {},
   "outputs": [],
   "source": [
    "from nltk.stem.porter import PorterStemmer\n",
    "\n",
    "porter = PorterStemmer()"
   ]
  },
  {
   "cell_type": "code",
   "execution_count": 50,
   "metadata": {},
   "outputs": [],
   "source": [
    "for i, file in enumerate(ham_sms_tokens):\n",
    "    ham_sms_tokens[i] = [porter.stem(token) for token in file]"
   ]
  },
  {
   "cell_type": "code",
   "execution_count": 51,
   "metadata": {},
   "outputs": [],
   "source": [
    "for i, file in enumerate(spam_sms_tokens):\n",
    "    spam_sms_tokens[i] = [porter.stem(token) for token in file]"
   ]
  },
  {
   "cell_type": "code",
   "execution_count": 52,
   "metadata": {
    "scrolled": true
   },
   "outputs": [
    {
     "name": "stdout",
     "output_type": "stream",
     "text": [
      "['martin', 'post', 'tasso', 'papadopoulo', 'greek', 'sculptor', 'behind', 'plan', 'judg', 'limeston', 'mount', 'kerdylio', 'mile', 'east', 'salonika', 'far', 'mount', 'atho', 'monast', 'commun', 'ideal', 'patriot', 'sculptur', 'well', 'alexand', 'granit', 'featur', 'ft', 'high', 'ft', 'wide', 'museum', 'restor', 'amphitheatr', 'car', 'park', 'admir', 'crowd', 'plan', 'mountain', 'limeston', 'granit', 'limeston', 'weather', 'pretti', 'fast', 'yahoo', 'group', 'sponsor', 'dvd', 'free', 'p', 'join', 'unsubscrib', 'group', 'send', 'email', 'use', 'yahoo', 'group', 'subject']\n"
     ]
    }
   ],
   "source": [
    "print(ham_sms_tokens[1])"
   ]
  },
  {
   "cell_type": "code",
   "execution_count": 53,
   "metadata": {
    "scrolled": false
   },
   "outputs": [
    {
     "name": "stdout",
     "output_type": "stream",
     "text": [
      "['fight', 'risk', 'cancer', 'slim', 'guarante', 'lose', 'lb', 'day', 'get', 'child', 'support', 'deserv', 'free', 'legal', 'advic', 'join', 'web', 'fastest', 'grow', 'singl', 'commun', 'start', 'privat', 'photo', 'album', 'onlin', 'wonder', 'day', 'offer', 'manag', 'prizemama', 'wish', 'leav', 'list', 'pleas', 'use', 'link', 'irish', 'linux', 'user', 'group', 'un', 'subscript', 'inform', 'list', 'maintain']\n"
     ]
    }
   ],
   "source": [
    "print(spam_sms_tokens[1])"
   ]
  },
  {
   "cell_type": "markdown",
   "metadata": {},
   "source": [
    "# Preprocesar los datos para representarlos usando bag-of-words."
   ]
  },
  {
   "cell_type": "code",
   "execution_count": 54,
   "metadata": {},
   "outputs": [],
   "source": [
    "from collections import Counter"
   ]
  },
  {
   "cell_type": "code",
   "execution_count": 55,
   "metadata": {},
   "outputs": [
    {
     "name": "stdout",
     "output_type": "stream",
     "text": [
      "63654\n"
     ]
    }
   ],
   "source": [
    "ham_words = []\n",
    "for file in ham_sms_tokens:\n",
    "    ham_words += file\n",
    "    \n",
    "spam_words = []\n",
    "for file in spam_sms_tokens:\n",
    "    spam_words += file\n",
    "    \n",
    "all_words = ham_words + spam_words\n",
    "    \n",
    "dictionary = Counter(all_words)\n",
    "print(len(dictionary))"
   ]
  },
  {
   "cell_type": "code",
   "execution_count": 56,
   "metadata": {
    "scrolled": true
   },
   "outputs": [
    {
     "data": {
      "text/plain": [
       "3000"
      ]
     },
     "execution_count": 56,
     "metadata": {},
     "output_type": "execute_result"
    }
   ],
   "source": [
    "bow = dictionary.most_common(3000)\n",
    "vocabulary = {w for w, c in bow}\n",
    "len(vocabulary)"
   ]
  },
  {
   "cell_type": "markdown",
   "metadata": {},
   "source": [
    "## Matriz de características"
   ]
  },
  {
   "cell_type": "code",
   "execution_count": 57,
   "metadata": {},
   "outputs": [],
   "source": [
    "import pandas as pd\n",
    "import numpy as np\n",
    "from sklearn.feature_extraction.text import CountVectorizer\n",
    "from sklearn.utils import shuffle\n",
    "\n",
    "vectorizer = CountVectorizer(vocabulary=vocabulary, lowercase=False)"
   ]
  },
  {
   "cell_type": "code",
   "execution_count": 58,
   "metadata": {},
   "outputs": [],
   "source": [
    "X = []\n",
    "y = []\n",
    "\n",
    "for file in ham_sms_tokens:\n",
    "    #X.append(vectorizer.fit_transform([' '.join(file)]).todense())\n",
    "    X.append(vectorizer.fit_transform([' '.join(file)]).toarray())\n",
    "    y.append('ham')\n",
    "    \n",
    "for file in spam_sms_tokens:\n",
    "    #X.append(vectorizer.fit_transform([' '.join(file)]).todense())\n",
    "    X.append(vectorizer.fit_transform([' '.join(file)]).toarray())\n",
    "    y.append('spam')\n",
    "    \n",
    "X_numpy = np.reshape(np.array(X), (len(X), -1))"
   ]
  },
  {
   "cell_type": "code",
   "execution_count": 59,
   "metadata": {},
   "outputs": [
    {
     "data": {
      "text/html": [
       "<div>\n",
       "<style scoped>\n",
       "    .dataframe tbody tr th:only-of-type {\n",
       "        vertical-align: middle;\n",
       "    }\n",
       "\n",
       "    .dataframe tbody tr th {\n",
       "        vertical-align: top;\n",
       "    }\n",
       "\n",
       "    .dataframe thead th {\n",
       "        text-align: right;\n",
       "    }\n",
       "</style>\n",
       "<table border=\"1\" class=\"dataframe\">\n",
       "  <thead>\n",
       "    <tr style=\"text-align: right;\">\n",
       "      <th></th>\n",
       "      <th>aa</th>\n",
       "      <th>aaaaaaaaaaaaaaaaaaaaaaaaaaaaaaaaaaaaaaaaaaaaaaaaaaaaaaaaaaaaaaaaaaaaaaaaaaaa</th>\n",
       "      <th>ab</th>\n",
       "      <th>abacha</th>\n",
       "      <th>abandon</th>\n",
       "      <th>abil</th>\n",
       "      <th>abl</th>\n",
       "      <th>absolut</th>\n",
       "      <th>absorb</th>\n",
       "      <th>abus</th>\n",
       "      <th>...</th>\n",
       "      <th>york</th>\n",
       "      <th>young</th>\n",
       "      <th>yr</th>\n",
       "      <th>z</th>\n",
       "      <th>zealand</th>\n",
       "      <th>zero</th>\n",
       "      <th>zimbabw</th>\n",
       "      <th>zip</th>\n",
       "      <th>zone</th>\n",
       "      <th>class_y</th>\n",
       "    </tr>\n",
       "  </thead>\n",
       "  <tbody>\n",
       "    <tr>\n",
       "      <th>2470</th>\n",
       "      <td>0</td>\n",
       "      <td>0</td>\n",
       "      <td>0</td>\n",
       "      <td>0</td>\n",
       "      <td>0</td>\n",
       "      <td>0</td>\n",
       "      <td>0</td>\n",
       "      <td>0</td>\n",
       "      <td>0</td>\n",
       "      <td>0</td>\n",
       "      <td>...</td>\n",
       "      <td>0</td>\n",
       "      <td>0</td>\n",
       "      <td>0</td>\n",
       "      <td>0</td>\n",
       "      <td>0</td>\n",
       "      <td>0</td>\n",
       "      <td>0</td>\n",
       "      <td>0</td>\n",
       "      <td>0</td>\n",
       "      <td>ham</td>\n",
       "    </tr>\n",
       "    <tr>\n",
       "      <th>2101</th>\n",
       "      <td>0</td>\n",
       "      <td>0</td>\n",
       "      <td>0</td>\n",
       "      <td>0</td>\n",
       "      <td>0</td>\n",
       "      <td>0</td>\n",
       "      <td>0</td>\n",
       "      <td>0</td>\n",
       "      <td>0</td>\n",
       "      <td>0</td>\n",
       "      <td>...</td>\n",
       "      <td>0</td>\n",
       "      <td>0</td>\n",
       "      <td>0</td>\n",
       "      <td>0</td>\n",
       "      <td>0</td>\n",
       "      <td>0</td>\n",
       "      <td>0</td>\n",
       "      <td>0</td>\n",
       "      <td>0</td>\n",
       "      <td>ham</td>\n",
       "    </tr>\n",
       "    <tr>\n",
       "      <th>1719</th>\n",
       "      <td>0</td>\n",
       "      <td>0</td>\n",
       "      <td>0</td>\n",
       "      <td>0</td>\n",
       "      <td>0</td>\n",
       "      <td>0</td>\n",
       "      <td>0</td>\n",
       "      <td>0</td>\n",
       "      <td>0</td>\n",
       "      <td>0</td>\n",
       "      <td>...</td>\n",
       "      <td>0</td>\n",
       "      <td>0</td>\n",
       "      <td>0</td>\n",
       "      <td>0</td>\n",
       "      <td>0</td>\n",
       "      <td>0</td>\n",
       "      <td>0</td>\n",
       "      <td>0</td>\n",
       "      <td>0</td>\n",
       "      <td>ham</td>\n",
       "    </tr>\n",
       "    <tr>\n",
       "      <th>3598</th>\n",
       "      <td>0</td>\n",
       "      <td>0</td>\n",
       "      <td>0</td>\n",
       "      <td>0</td>\n",
       "      <td>0</td>\n",
       "      <td>0</td>\n",
       "      <td>0</td>\n",
       "      <td>0</td>\n",
       "      <td>0</td>\n",
       "      <td>0</td>\n",
       "      <td>...</td>\n",
       "      <td>0</td>\n",
       "      <td>0</td>\n",
       "      <td>0</td>\n",
       "      <td>0</td>\n",
       "      <td>0</td>\n",
       "      <td>0</td>\n",
       "      <td>0</td>\n",
       "      <td>0</td>\n",
       "      <td>0</td>\n",
       "      <td>spam</td>\n",
       "    </tr>\n",
       "  </tbody>\n",
       "</table>\n",
       "<p>4 rows × 3001 columns</p>\n",
       "</div>"
      ],
      "text/plain": [
       "      aa  \\\n",
       "2470   0   \n",
       "2101   0   \n",
       "1719   0   \n",
       "3598   0   \n",
       "\n",
       "      aaaaaaaaaaaaaaaaaaaaaaaaaaaaaaaaaaaaaaaaaaaaaaaaaaaaaaaaaaaaaaaaaaaaaaaaaaaa  \\\n",
       "2470                                                  0                              \n",
       "2101                                                  0                              \n",
       "1719                                                  0                              \n",
       "3598                                                  0                              \n",
       "\n",
       "      ab  abacha  abandon  abil  abl  absolut  absorb  abus  ...  york  young  \\\n",
       "2470   0       0        0     0    0        0       0     0  ...     0      0   \n",
       "2101   0       0        0     0    0        0       0     0  ...     0      0   \n",
       "1719   0       0        0     0    0        0       0     0  ...     0      0   \n",
       "3598   0       0        0     0    0        0       0     0  ...     0      0   \n",
       "\n",
       "      yr  z  zealand  zero  zimbabw  zip  zone  class_y  \n",
       "2470   0  0        0     0        0    0     0      ham  \n",
       "2101   0  0        0     0        0    0     0      ham  \n",
       "1719   0  0        0     0        0    0     0      ham  \n",
       "3598   0  0        0     0        0    0     0     spam  \n",
       "\n",
       "[4 rows x 3001 columns]"
      ]
     },
     "execution_count": 59,
     "metadata": {},
     "output_type": "execute_result"
    }
   ],
   "source": [
    "dataset = pd.DataFrame(X_numpy, columns=vectorizer.get_feature_names())\n",
    "dataset['class_y'] = np.array(y)\n",
    "#dataset = dataset.sample(frac=1, random_state=12345).reset_index(drop=True)\n",
    "dataset = shuffle(dataset, random_state=12345)\n",
    "dataset.head(4)"
   ]
  },
  {
   "cell_type": "markdown",
   "metadata": {},
   "source": [
    "# Construir un modelo de regresión logística como punto base para la comparación con otros modelos más complejos."
   ]
  },
  {
   "cell_type": "markdown",
   "metadata": {},
   "source": [
    "**Fuente https://machinelearningmastery.com/use-keras-deep-learning-models-scikit-learn-python/"
   ]
  },
  {
   "cell_type": "code",
   "execution_count": 60,
   "metadata": {},
   "outputs": [],
   "source": [
    "from sklearn.linear_model import LogisticRegression\n",
    "from sklearn.model_selection import cross_val_score\n",
    "from sklearn.model_selection import train_test_split\n",
    "from sklearn.model_selection import KFold"
   ]
  },
  {
   "cell_type": "code",
   "execution_count": 61,
   "metadata": {},
   "outputs": [],
   "source": [
    "X_train, X_test, y_train, y_test = train_test_split(\n",
    "    dataset.drop(['class_y'], axis=1), dataset['class_y'], test_size=0.35, random_state=12345)"
   ]
  },
  {
   "cell_type": "markdown",
   "metadata": {},
   "source": [
    "# Construir un modelo de regresión logística como punto base para la comparación con otros modelos más complejos"
   ]
  },
  {
   "cell_type": "code",
   "execution_count": 62,
   "metadata": {
    "scrolled": true
   },
   "outputs": [],
   "source": [
    "lr = LogisticRegression(solver='liblinear')\n",
    "kfold = KFold(n_splits=10, random_state=12345)\n",
    "result = cross_val_score(lr, X_train, y_train, cv=kfold)"
   ]
  },
  {
   "cell_type": "markdown",
   "metadata": {},
   "source": [
    "Métricas de desempeño"
   ]
  },
  {
   "cell_type": "code",
   "execution_count": 63,
   "metadata": {},
   "outputs": [
    {
     "data": {
      "text/plain": [
       "0.9734265734265735"
      ]
     },
     "execution_count": 63,
     "metadata": {},
     "output_type": "execute_result"
    }
   ],
   "source": [
    "result.mean()"
   ]
  },
  {
   "cell_type": "code",
   "execution_count": 64,
   "metadata": {},
   "outputs": [
    {
     "data": {
      "text/plain": [
       "0.00815517747530813"
      ]
     },
     "execution_count": 64,
     "metadata": {},
     "output_type": "execute_result"
    }
   ],
   "source": [
    "result.std()"
   ]
  },
  {
   "cell_type": "code",
   "execution_count": 65,
   "metadata": {},
   "outputs": [
    {
     "data": {
      "text/plain": [
       "0.9831168831168832"
      ]
     },
     "execution_count": 65,
     "metadata": {},
     "output_type": "execute_result"
    }
   ],
   "source": [
    "lr.fit(X_train, y_train)\n",
    "lr.score(X_test, y_test)"
   ]
  },
  {
   "cell_type": "code",
   "execution_count": 66,
   "metadata": {},
   "outputs": [
    {
     "data": {
      "text/plain": [
       "array(['spam', 'spam', 'ham', ..., 'spam', 'ham', 'spam'], dtype=object)"
      ]
     },
     "execution_count": 66,
     "metadata": {},
     "output_type": "execute_result"
    }
   ],
   "source": [
    "lr.predict(X_test)"
   ]
  },
  {
   "cell_type": "code",
   "execution_count": 67,
   "metadata": {},
   "outputs": [],
   "source": [
    "from sklearn.metrics import confusion_matrix"
   ]
  },
  {
   "cell_type": "code",
   "execution_count": 68,
   "metadata": {},
   "outputs": [
    {
     "data": {
      "text/plain": [
       "array([[859,   6],\n",
       "       [ 20, 655]], dtype=int64)"
      ]
     },
     "execution_count": 68,
     "metadata": {},
     "output_type": "execute_result"
    }
   ],
   "source": [
    "lr = LogisticRegression(solver='liblinear')\n",
    "lr.fit(X_train, y_train)\n",
    "y_pred = lr.predict(X_test)\n",
    "\n",
    "confusion_matrix(y_test, y_pred)"
   ]
  },
  {
   "cell_type": "code",
   "execution_count": 75,
   "metadata": {
    "scrolled": true
   },
   "outputs": [
    {
     "name": "stdout",
     "output_type": "stream",
     "text": [
      "Requirement already satisfied: tensorflow in c:\\users\\lenovo\\nueva carpeta\\lib\\site-packages (1.13.1)\n",
      "Requirement already satisfied: six>=1.10.0 in c:\\users\\lenovo\\nueva carpeta\\lib\\site-packages (from tensorflow) (1.12.0)\n",
      "Requirement already satisfied: wheel>=0.26 in c:\\users\\lenovo\\nueva carpeta\\lib\\site-packages (from tensorflow) (0.33.1)\n",
      "Requirement already satisfied: grpcio>=1.8.6 in c:\\users\\lenovo\\nueva carpeta\\lib\\site-packages (from tensorflow) (1.19.0)\n",
      "Requirement already satisfied: gast>=0.2.0 in c:\\users\\lenovo\\nueva carpeta\\lib\\site-packages (from tensorflow) (0.2.2)\n",
      "Requirement already satisfied: protobuf>=3.6.1 in c:\\users\\lenovo\\nueva carpeta\\lib\\site-packages (from tensorflow) (3.7.1)\n",
      "Requirement already satisfied: keras-preprocessing>=1.0.5 in c:\\users\\lenovo\\nueva carpeta\\lib\\site-packages (from tensorflow) (1.0.9)\n",
      "Requirement already satisfied: keras-applications>=1.0.6 in c:\\users\\lenovo\\nueva carpeta\\lib\\site-packages (from tensorflow) (1.0.7)\n",
      "Requirement already satisfied: absl-py>=0.1.6 in c:\\users\\lenovo\\nueva carpeta\\lib\\site-packages (from tensorflow) (0.7.1)\n",
      "Requirement already satisfied: numpy>=1.13.3 in c:\\users\\lenovo\\nueva carpeta\\lib\\site-packages (from tensorflow) (1.16.2)\n",
      "Requirement already satisfied: termcolor>=1.1.0 in c:\\users\\lenovo\\nueva carpeta\\lib\\site-packages (from tensorflow) (1.1.0)\n",
      "Requirement already satisfied: tensorflow-estimator<1.14.0rc0,>=1.13.0 in c:\\users\\lenovo\\nueva carpeta\\lib\\site-packages (from tensorflow) (1.13.0)\n",
      "Requirement already satisfied: tensorboard<1.14.0,>=1.13.0 in c:\\users\\lenovo\\nueva carpeta\\lib\\site-packages (from tensorflow) (1.13.1)\n",
      "Requirement already satisfied: astor>=0.6.0 in c:\\users\\lenovo\\nueva carpeta\\lib\\site-packages (from tensorflow) (0.7.1)\n",
      "Requirement already satisfied: setuptools in c:\\users\\lenovo\\nueva carpeta\\lib\\site-packages (from protobuf>=3.6.1->tensorflow) (41.0.0)\n",
      "Requirement already satisfied: h5py in c:\\users\\lenovo\\nueva carpeta\\lib\\site-packages (from keras-applications>=1.0.6->tensorflow) (2.9.0)\n",
      "Requirement already satisfied: mock>=2.0.0 in c:\\users\\lenovo\\nueva carpeta\\lib\\site-packages (from tensorflow-estimator<1.14.0rc0,>=1.13.0->tensorflow) (2.0.0)\n",
      "Requirement already satisfied: werkzeug>=0.11.15 in c:\\users\\lenovo\\nueva carpeta\\lib\\site-packages (from tensorboard<1.14.0,>=1.13.0->tensorflow) (0.14.1)\n",
      "Requirement already satisfied: markdown>=2.6.8 in c:\\users\\lenovo\\nueva carpeta\\lib\\site-packages (from tensorboard<1.14.0,>=1.13.0->tensorflow) (3.1)\n",
      "Requirement already satisfied: pbr>=0.11 in c:\\users\\lenovo\\nueva carpeta\\lib\\site-packages (from mock>=2.0.0->tensorflow-estimator<1.14.0rc0,>=1.13.0->tensorflow) (5.1.3)\n"
     ]
    }
   ],
   "source": [
    "!pip install tensorflow"
   ]
  },
  {
   "cell_type": "code",
   "execution_count": 69,
   "metadata": {},
   "outputs": [],
   "source": [
    "from tensorflow.keras.models import Sequential\n",
    "from tensorflow.keras.layers import Dense\n",
    "from tensorflow.keras.wrappers.scikit_learn import KerasClassifier\n",
    "from sklearn.model_selection import cross_val_score"
   ]
  },
  {
   "cell_type": "markdown",
   "metadata": {},
   "source": [
    "# Implementación de ANN - Función para crear modelo"
   ]
  },
  {
   "cell_type": "code",
   "execution_count": 72,
   "metadata": {},
   "outputs": [
    {
     "name": "stdout",
     "output_type": "stream",
     "text": [
      "WARNING:tensorflow:From C:\\Users\\Lenovo\\Nueva carpeta\\lib\\site-packages\\tensorflow\\python\\ops\\math_ops.py:3066: to_int32 (from tensorflow.python.ops.math_ops) is deprecated and will be removed in a future version.\n",
      "Instructions for updating:\n",
      "Use tf.cast instead.\n",
      "0.9657342672348023\n"
     ]
    }
   ],
   "source": [
    "#required for KerasClassifier\n",
    "    \n",
    "def create_model():\n",
    "    # create model\n",
    "    model = Sequential()\n",
    "    model.add(Dense(12, input_dim=3000, activation='relu'))\n",
    "    model.add(Dense(8, activation='relu'))\n",
    "    model.add(Dense(1, activation='sigmoid'))\n",
    "    # Compile model\n",
    "    model.compile(loss='binary_crossentropy', optimizer='adam', metrics=['accuracy'])\n",
    "    return model\n",
    " \n",
    "model = KerasClassifier(build_fn=create_model, epochs=150, batch_size=10, verbose=0)\n",
    "results = cross_val_score(model, X_train, y_train, cv=10)\n",
    "print(results.mean())"
   ]
  },
  {
   "cell_type": "code",
   "execution_count": null,
   "metadata": {},
   "outputs": [],
   "source": []
  }
 ],
 "metadata": {
  "kernelspec": {
   "display_name": "Python 3",
   "language": "python",
   "name": "python3"
  },
  "language_info": {
   "codemirror_mode": {
    "name": "ipython",
    "version": 3
   },
   "file_extension": ".py",
   "mimetype": "text/x-python",
   "name": "python",
   "nbconvert_exporter": "python",
   "pygments_lexer": "ipython3",
   "version": "3.7.3"
  }
 },
 "nbformat": 4,
 "nbformat_minor": 2
}
