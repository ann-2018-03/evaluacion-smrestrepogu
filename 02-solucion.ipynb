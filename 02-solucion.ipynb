{
 "cells": [
  {
   "cell_type": "code",
   "execution_count": 67,
   "metadata": {},
   "outputs": [],
   "source": [
    "import numpy as np\n",
    "import pandas as pd\n",
    "import matplotlib.pyplot as plt\n",
    "%matplotlib inline"
   ]
  },
  {
   "cell_type": "markdown",
   "metadata": {},
   "source": [
    "# Lectura de datos."
   ]
  },
  {
   "cell_type": "code",
   "execution_count": 68,
   "metadata": {},
   "outputs": [
    {
     "data": {
      "text/plain": [
       "Index(['age', 'sex', 'bmi', 'bp', 's1', 's2', 's3', 's4', 's5', 's6', 'Y'], dtype='object')"
      ]
     },
     "execution_count": 68,
     "metadata": {},
     "output_type": "execute_result"
    }
   ],
   "source": [
    "df = pd.read_csv('datos/diabetes.csv')\n",
    "\n",
    "X = df.drop(['Y'], axis=1)\n",
    "y = df['Y']\n",
    "\n",
    "df.columns"
   ]
  },
  {
   "cell_type": "code",
   "execution_count": 69,
   "metadata": {},
   "outputs": [],
   "source": [
    "from sklearn.linear_model import LinearRegression\n",
    "from sklearn.model_selection import cross_val_score\n",
    "from sklearn.metrics import mean_squared_error\n",
    "from sklearn.metrics import median_absolute_error\n",
    "from sklearn.metrics import r2_score\n",
    "from sklearn import linear_model"
   ]
  },
  {
   "cell_type": "markdown",
   "metadata": {},
   "source": [
    "# Modelo de regresión lineal"
   ]
  },
  {
   "cell_type": "code",
   "execution_count": 70,
   "metadata": {
    "scrolled": false
   },
   "outputs": [
    {
     "name": "stdout",
     "output_type": "stream",
     "text": [
      "MSE:  0.48231812211149394\n"
     ]
    }
   ],
   "source": [
    "model = LinearRegression()\n",
    "model.fit(X, y)\n",
    "scores = cross_val_score(model, X, y, cv=5)\n",
    "print('MSE: ', scores.mean())"
   ]
  },
  {
   "cell_type": "code",
   "execution_count": 71,
   "metadata": {},
   "outputs": [
    {
     "data": {
      "text/plain": [
       "[<matplotlib.lines.Line2D at 0x248fb2b6c18>]"
      ]
     },
     "execution_count": 71,
     "metadata": {},
     "output_type": "execute_result"
    },
    {
     "data": {
      "image/png": "[encoded data removed]",
      "text/plain": [
       "<Figure size 432x288 with 1 Axes>"
      ]
     },
     "metadata": {
      "needs_background": "light"
     },
     "output_type": "display_data"
    }
   ],
   "source": [
    "y_pred = model.predict(X)\n",
    "plt.plot(y, y_pred, 'x')"
   ]
  },
  {
   "cell_type": "markdown",
   "metadata": {},
   "source": [
    "Función para evaluar la regresión Lineal"
   ]
  },
  {
   "cell_type": "code",
   "execution_count": 27,
   "metadata": {},
   "outputs": [],
   "source": [
    "def evaluate_model(X_new, y):\n",
    "    m = linear_model.LinearRegression()\n",
    "    \n",
    "    m.fit(X_new, y)\n",
    "    y_pred = m.predict(X_new)\n",
    "    print(f'MSE: {mean_squared_error(y, y_pred):.2f}')\n",
    "    print(f'R2: {r2_score(y, y_pred):.2f}')\n",
    "    \n",
    "    diag = np.linspace(0, 350, 100)\n",
    "\n",
    "    plt.figure(figsize=(7,7))\n",
    "    plt.title('y vs y_pred')\n",
    "    plt.xlabel('y')\n",
    "    plt.ylabel('y_pred')\n",
    "    plt.plot(y, y_pred, 'o', markersize=3)\n",
    "    plt.plot(diag, diag);\n",
    "    plt.show()\n",
    "    \n",
    "    \n",
    "def evaluate_model_crossval(X_new, y, cv=5):\n",
    "    m = linear_model.LinearRegression()\n",
    "    scores = cross_val_score(m, X_new, y, cv=cv)\n",
    "    print(f'R2: {scores.mean():0.2f} (+/- {(scores.std() * 2):0.2f})')\n",
    "    \n",
    "    \n",
    "def evaluate_model_crossval_kfold(X_new, y, n_splits=5):\n",
    "    m = linear_model.LinearRegression()\n",
    "    r_scores = []\n",
    "    mse = []\n",
    "    for train, test in KFold(n_splits=n_splits).split(X_new):\n",
    "        X_train, X_test = X_new[train], X_new[test]\n",
    "        y_train, y_test = y[train], y[test]        \n",
    "        \n",
    "        m.fit(X_train, y_train)        \n",
    "        y_pred_test = m.predict(X_test)\n",
    "        \n",
    "        #r_scores.append(m.fit(X_train, y_train).score(X_test, y_test))\n",
    "        r_scores.append(r2_score(y_test, y_pred_test)) \n",
    "        mse.append(mean_squared_error(y_test, y_pred_test))        \n",
    "    \n",
    "    #return np.mean(mse), np.mean(r_scores), np.std(mse), np.std(r_scores)\n",
    "    print(f'MSE: {np.mean(mse):.2f} (+/- {(np.std(mse) * 2):0.2f})')\n",
    "    print(f'R2: {np.mean(r_scores):.2f} (+/- {(np.std(r_scores) * 2):0.2f})')"
   ]
  },
  {
   "cell_type": "markdown",
   "metadata": {},
   "source": [
    "# Transformaciones"
   ]
  },
  {
   "cell_type": "code",
   "execution_count": 47,
   "metadata": {},
   "outputs": [],
   "source": [
    "X['age'] = X['age'].apply(lambda x: np.fabs(x))\n",
    "X['sex'] = X['sex'].apply(lambda x: np.fabs(x))\n",
    "X['bmi'] = X['bmi'].apply(lambda x: np.fabs(x))\n",
    "X['s1'] = X['s1'].apply(lambda x: np.fabs(x))\n",
    "X['s2'] = X['s2'].apply(lambda x: np.fabs(x))\n",
    "X['s3'] = X['s3'].apply(lambda x: np.fabs(x))\n",
    "X['s4'] = X['s4'].apply(lambda x: np.fabs(x))\n",
    "X['s5'] = X['s5'].apply(lambda x: np.fabs(x))\n",
    "X['s6'] = X['s6'].apply(lambda x: np.fabs(x))"
   ]
  },
  {
   "cell_type": "markdown",
   "metadata": {},
   "source": [
    "### Método de selección: Coeficientes de la regresión"
   ]
  },
  {
   "cell_type": "code",
   "execution_count": 48,
   "metadata": {},
   "outputs": [],
   "source": [
    "import statsmodels.api as sm"
   ]
  },
  {
   "cell_type": "code",
   "execution_count": 49,
   "metadata": {},
   "outputs": [
    {
     "name": "stderr",
     "output_type": "stream",
     "text": [
      "C:\\Users\\Lenovo\\Nueva carpeta\\lib\\site-packages\\numpy\\core\\fromnumeric.py:2389: FutureWarning: Method .ptp is deprecated and will be removed in a future version. Use numpy.ptp instead.\n",
      "  return ptp(axis=axis, out=out, **kwargs)\n"
     ]
    },
    {
     "data": {
      "text/html": [
       "<table class=\"simpletable\">\n",
       "<caption>OLS Regression Results</caption>\n",
       "<tr>\n",
       "  <th>Dep. Variable:</th>            <td>Y</td>        <th>  R-squared:         </th> <td>   0.296</td>\n",
       "</tr>\n",
       "<tr>\n",
       "  <th>Model:</th>                   <td>OLS</td>       <th>  Adj. R-squared:    </th> <td>   0.279</td>\n",
       "</tr>\n",
       "<tr>\n",
       "  <th>Method:</th>             <td>Least Squares</td>  <th>  F-statistic:       </th> <td>   18.09</td>\n",
       "</tr>\n",
       "<tr>\n",
       "  <th>Date:</th>             <td>Wed, 10 Apr 2019</td> <th>  Prob (F-statistic):</th> <td>1.18e-27</td>\n",
       "</tr>\n",
       "<tr>\n",
       "  <th>Time:</th>                 <td>00:13:09</td>     <th>  Log-Likelihood:    </th> <td> -2469.7</td>\n",
       "</tr>\n",
       "<tr>\n",
       "  <th>No. Observations:</th>      <td>   442</td>      <th>  AIC:               </th> <td>   4961.</td>\n",
       "</tr>\n",
       "<tr>\n",
       "  <th>Df Residuals:</th>          <td>   431</td>      <th>  BIC:               </th> <td>   5006.</td>\n",
       "</tr>\n",
       "<tr>\n",
       "  <th>Df Model:</th>              <td>    10</td>      <th>                     </th>     <td> </td>   \n",
       "</tr>\n",
       "<tr>\n",
       "  <th>Covariance Type:</th>      <td>nonrobust</td>    <th>                     </th>     <td> </td>   \n",
       "</tr>\n",
       "</table>\n",
       "<table class=\"simpletable\">\n",
       "<tr>\n",
       "    <td></td>       <th>coef</th>     <th>std err</th>      <th>t</th>      <th>P>|t|</th>  <th>[0.025</th>    <th>0.975]</th>  \n",
       "</tr>\n",
       "<tr>\n",
       "  <th>const</th> <td>  178.4274</td> <td>   26.418</td> <td>    6.754</td> <td> 0.000</td> <td>  126.504</td> <td>  230.351</td>\n",
       "</tr>\n",
       "<tr>\n",
       "  <th>age</th>   <td>  541.5975</td> <td> 1216.926</td> <td>    0.445</td> <td> 0.657</td> <td>-1850.251</td> <td> 2933.446</td>\n",
       "</tr>\n",
       "<tr>\n",
       "  <th>sex</th>   <td>-1.871e+04</td> <td> 1.13e+04</td> <td>   -1.659</td> <td> 0.098</td> <td>-4.09e+04</td> <td> 3450.854</td>\n",
       "</tr>\n",
       "<tr>\n",
       "  <th>bmi</th>   <td> 5092.6011</td> <td>  961.613</td> <td>    5.296</td> <td> 0.000</td> <td> 3202.566</td> <td> 6982.636</td>\n",
       "</tr>\n",
       "<tr>\n",
       "  <th>bp</th>    <td>  708.5572</td> <td>   68.280</td> <td>   10.377</td> <td> 0.000</td> <td>  574.354</td> <td>  842.760</td>\n",
       "</tr>\n",
       "<tr>\n",
       "  <th>s1</th>    <td> 3359.6345</td> <td> 1927.006</td> <td>    1.743</td> <td> 0.082</td> <td> -427.863</td> <td> 7147.132</td>\n",
       "</tr>\n",
       "<tr>\n",
       "  <th>s2</th>    <td>-4221.5100</td> <td> 1966.129</td> <td>   -2.147</td> <td> 0.032</td> <td>-8085.903</td> <td> -357.117</td>\n",
       "</tr>\n",
       "<tr>\n",
       "  <th>s3</th>    <td>-2960.2780</td> <td>  869.427</td> <td>   -3.405</td> <td> 0.001</td> <td>-4669.121</td> <td>-1251.435</td>\n",
       "</tr>\n",
       "<tr>\n",
       "  <th>s4</th>    <td> 4003.2324</td> <td> 1199.374</td> <td>    3.338</td> <td> 0.001</td> <td> 1645.882</td> <td> 6360.583</td>\n",
       "</tr>\n",
       "<tr>\n",
       "  <th>s5</th>    <td> -957.7424</td> <td> 1137.897</td> <td>   -0.842</td> <td> 0.400</td> <td>-3194.260</td> <td> 1278.776</td>\n",
       "</tr>\n",
       "<tr>\n",
       "  <th>s6</th>    <td> 2233.4941</td> <td>  947.163</td> <td>    2.358</td> <td> 0.019</td> <td>  371.861</td> <td> 4095.128</td>\n",
       "</tr>\n",
       "</table>\n",
       "<table class=\"simpletable\">\n",
       "<tr>\n",
       "  <th>Omnibus:</th>       <td>15.748</td> <th>  Durbin-Watson:     </th> <td>   2.101</td>\n",
       "</tr>\n",
       "<tr>\n",
       "  <th>Prob(Omnibus):</th> <td> 0.000</td> <th>  Jarque-Bera (JB):  </th> <td>  11.444</td>\n",
       "</tr>\n",
       "<tr>\n",
       "  <th>Skew:</th>          <td> 0.284</td> <th>  Prob(JB):          </th> <td> 0.00327</td>\n",
       "</tr>\n",
       "<tr>\n",
       "  <th>Kurtosis:</th>      <td> 2.453</td> <th>  Cond. No.          </th> <td>3.62e+03</td>\n",
       "</tr>\n",
       "</table><br/><br/>Warnings:<br/>[1] Standard Errors assume that the covariance matrix of the errors is correctly specified.<br/>[2] The condition number is large, 3.62e+03. This might indicate that there are<br/>strong multicollinearity or other numerical problems."
      ],
      "text/plain": [
       "<class 'statsmodels.iolib.summary.Summary'>\n",
       "\"\"\"\n",
       "                            OLS Regression Results                            \n",
       "==============================================================================\n",
       "Dep. Variable:                      Y   R-squared:                       0.296\n",
       "Model:                            OLS   Adj. R-squared:                  0.279\n",
       "Method:                 Least Squares   F-statistic:                     18.09\n",
       "Date:                Wed, 10 Apr 2019   Prob (F-statistic):           1.18e-27\n",
       "Time:                        00:13:09   Log-Likelihood:                -2469.7\n",
       "No. Observations:                 442   AIC:                             4961.\n",
       "Df Residuals:                     431   BIC:                             5006.\n",
       "Df Model:                          10                                         \n",
       "Covariance Type:            nonrobust                                         \n",
       "==============================================================================\n",
       "                 coef    std err          t      P>|t|      [0.025      0.975]\n",
       "------------------------------------------------------------------------------\n",
       "const        178.4274     26.418      6.754      0.000     126.504     230.351\n",
       "age          541.5975   1216.926      0.445      0.657   -1850.251    2933.446\n",
       "sex        -1.871e+04   1.13e+04     -1.659      0.098   -4.09e+04    3450.854\n",
       "bmi         5092.6011    961.613      5.296      0.000    3202.566    6982.636\n",
       "bp           708.5572     68.280     10.377      0.000     574.354     842.760\n",
       "s1          3359.6345   1927.006      1.743      0.082    -427.863    7147.132\n",
       "s2         -4221.5100   1966.129     -2.147      0.032   -8085.903    -357.117\n",
       "s3         -2960.2780    869.427     -3.405      0.001   -4669.121   -1251.435\n",
       "s4          4003.2324   1199.374      3.338      0.001    1645.882    6360.583\n",
       "s5          -957.7424   1137.897     -0.842      0.400   -3194.260    1278.776\n",
       "s6          2233.4941    947.163      2.358      0.019     371.861    4095.128\n",
       "==============================================================================\n",
       "Omnibus:                       15.748   Durbin-Watson:                   2.101\n",
       "Prob(Omnibus):                  0.000   Jarque-Bera (JB):               11.444\n",
       "Skew:                           0.284   Prob(JB):                      0.00327\n",
       "Kurtosis:                       2.453   Cond. No.                     3.62e+03\n",
       "==============================================================================\n",
       "\n",
       "Warnings:\n",
       "[1] Standard Errors assume that the covariance matrix of the errors is correctly specified.\n",
       "[2] The condition number is large, 3.62e+03. This might indicate that there are\n",
       "strong multicollinearity or other numerical problems.\n",
       "\"\"\""
      ]
     },
     "execution_count": 49,
     "metadata": {},
     "output_type": "execute_result"
    }
   ],
   "source": [
    "x_sm = sm.add_constant(X)\n",
    "model = sm.OLS(y, x_sm)\n",
    "results = model.fit()\n",
    "results.summary()"
   ]
  },
  {
   "cell_type": "code",
   "execution_count": 50,
   "metadata": {
    "scrolled": true
   },
   "outputs": [
    {
     "data": {
      "text/html": [
       "<table class=\"simpletable\">\n",
       "<caption>OLS Regression Results</caption>\n",
       "<tr>\n",
       "  <th>Dep. Variable:</th>            <td>Y</td>        <th>  R-squared:         </th> <td>   0.295</td>\n",
       "</tr>\n",
       "<tr>\n",
       "  <th>Model:</th>                   <td>OLS</td>       <th>  Adj. R-squared:    </th> <td>   0.281</td>\n",
       "</tr>\n",
       "<tr>\n",
       "  <th>Method:</th>             <td>Least Squares</td>  <th>  F-statistic:       </th> <td>   20.12</td>\n",
       "</tr>\n",
       "<tr>\n",
       "  <th>Date:</th>             <td>Wed, 10 Apr 2019</td> <th>  Prob (F-statistic):</th> <td>2.80e-28</td>\n",
       "</tr>\n",
       "<tr>\n",
       "  <th>Time:</th>                 <td>00:13:27</td>     <th>  Log-Likelihood:    </th> <td> -2469.8</td>\n",
       "</tr>\n",
       "<tr>\n",
       "  <th>No. Observations:</th>      <td>   442</td>      <th>  AIC:               </th> <td>   4960.</td>\n",
       "</tr>\n",
       "<tr>\n",
       "  <th>Df Residuals:</th>          <td>   432</td>      <th>  BIC:               </th> <td>   5001.</td>\n",
       "</tr>\n",
       "<tr>\n",
       "  <th>Df Model:</th>              <td>     9</td>      <th>                     </th>     <td> </td>   \n",
       "</tr>\n",
       "<tr>\n",
       "  <th>Covariance Type:</th>      <td>nonrobust</td>    <th>                     </th>     <td> </td>   \n",
       "</tr>\n",
       "</table>\n",
       "<table class=\"simpletable\">\n",
       "<tr>\n",
       "    <td></td>       <th>coef</th>     <th>std err</th>      <th>t</th>      <th>P>|t|</th>  <th>[0.025</th>    <th>0.975]</th>  \n",
       "</tr>\n",
       "<tr>\n",
       "  <th>const</th> <td>  179.7155</td> <td>   26.234</td> <td>    6.850</td> <td> 0.000</td> <td>  128.153</td> <td>  231.278</td>\n",
       "</tr>\n",
       "<tr>\n",
       "  <th>sex</th>   <td>-1.875e+04</td> <td> 1.13e+04</td> <td>   -1.664</td> <td> 0.097</td> <td>-4.09e+04</td> <td> 3396.277</td>\n",
       "</tr>\n",
       "<tr>\n",
       "  <th>bmi</th>   <td> 5103.5307</td> <td>  960.407</td> <td>    5.314</td> <td> 0.000</td> <td> 3215.879</td> <td> 6991.182</td>\n",
       "</tr>\n",
       "<tr>\n",
       "  <th>bp</th>    <td>  704.8663</td> <td>   67.711</td> <td>   10.410</td> <td> 0.000</td> <td>  571.781</td> <td>  837.951</td>\n",
       "</tr>\n",
       "<tr>\n",
       "  <th>s1</th>    <td> 3426.5212</td> <td> 1919.352</td> <td>    1.785</td> <td> 0.075</td> <td> -345.909</td> <td> 7198.952</td>\n",
       "</tr>\n",
       "<tr>\n",
       "  <th>s2</th>    <td>-4271.0635</td> <td> 1961.151</td> <td>   -2.178</td> <td> 0.030</td> <td>-8125.647</td> <td> -416.480</td>\n",
       "</tr>\n",
       "<tr>\n",
       "  <th>s3</th>    <td>-2997.5126</td> <td>  864.588</td> <td>   -3.467</td> <td> 0.001</td> <td>-4696.835</td> <td>-1298.190</td>\n",
       "</tr>\n",
       "<tr>\n",
       "  <th>s4</th>    <td> 4016.5155</td> <td> 1197.890</td> <td>    3.353</td> <td> 0.001</td> <td> 1662.099</td> <td> 6370.932</td>\n",
       "</tr>\n",
       "<tr>\n",
       "  <th>s5</th>    <td> -946.1520</td> <td> 1136.543</td> <td>   -0.832</td> <td> 0.406</td> <td>-3179.993</td> <td> 1287.689</td>\n",
       "</tr>\n",
       "<tr>\n",
       "  <th>s6</th>    <td> 2223.2304</td> <td>  946.003</td> <td>    2.350</td> <td> 0.019</td> <td>  363.889</td> <td> 4082.572</td>\n",
       "</tr>\n",
       "</table>\n",
       "<table class=\"simpletable\">\n",
       "<tr>\n",
       "  <th>Omnibus:</th>       <td>15.268</td> <th>  Durbin-Watson:     </th> <td>   2.098</td>\n",
       "</tr>\n",
       "<tr>\n",
       "  <th>Prob(Omnibus):</th> <td> 0.000</td> <th>  Jarque-Bera (JB):  </th> <td>  11.208</td>\n",
       "</tr>\n",
       "<tr>\n",
       "  <th>Skew:</th>          <td> 0.282</td> <th>  Prob(JB):          </th> <td> 0.00368</td>\n",
       "</tr>\n",
       "<tr>\n",
       "  <th>Kurtosis:</th>      <td> 2.460</td> <th>  Cond. No.          </th> <td>3.62e+03</td>\n",
       "</tr>\n",
       "</table><br/><br/>Warnings:<br/>[1] Standard Errors assume that the covariance matrix of the errors is correctly specified.<br/>[2] The condition number is large, 3.62e+03. This might indicate that there are<br/>strong multicollinearity or other numerical problems."
      ],
      "text/plain": [
       "<class 'statsmodels.iolib.summary.Summary'>\n",
       "\"\"\"\n",
       "                            OLS Regression Results                            \n",
       "==============================================================================\n",
       "Dep. Variable:                      Y   R-squared:                       0.295\n",
       "Model:                            OLS   Adj. R-squared:                  0.281\n",
       "Method:                 Least Squares   F-statistic:                     20.12\n",
       "Date:                Wed, 10 Apr 2019   Prob (F-statistic):           2.80e-28\n",
       "Time:                        00:13:27   Log-Likelihood:                -2469.8\n",
       "No. Observations:                 442   AIC:                             4960.\n",
       "Df Residuals:                     432   BIC:                             5001.\n",
       "Df Model:                           9                                         \n",
       "Covariance Type:            nonrobust                                         \n",
       "==============================================================================\n",
       "                 coef    std err          t      P>|t|      [0.025      0.975]\n",
       "------------------------------------------------------------------------------\n",
       "const        179.7155     26.234      6.850      0.000     128.153     231.278\n",
       "sex        -1.875e+04   1.13e+04     -1.664      0.097   -4.09e+04    3396.277\n",
       "bmi         5103.5307    960.407      5.314      0.000    3215.879    6991.182\n",
       "bp           704.8663     67.711     10.410      0.000     571.781     837.951\n",
       "s1          3426.5212   1919.352      1.785      0.075    -345.909    7198.952\n",
       "s2         -4271.0635   1961.151     -2.178      0.030   -8125.647    -416.480\n",
       "s3         -2997.5126    864.588     -3.467      0.001   -4696.835   -1298.190\n",
       "s4          4016.5155   1197.890      3.353      0.001    1662.099    6370.932\n",
       "s5          -946.1520   1136.543     -0.832      0.406   -3179.993    1287.689\n",
       "s6          2223.2304    946.003      2.350      0.019     363.889    4082.572\n",
       "==============================================================================\n",
       "Omnibus:                       15.268   Durbin-Watson:                   2.098\n",
       "Prob(Omnibus):                  0.000   Jarque-Bera (JB):               11.208\n",
       "Skew:                           0.282   Prob(JB):                      0.00368\n",
       "Kurtosis:                       2.460   Cond. No.                     3.62e+03\n",
       "==============================================================================\n",
       "\n",
       "Warnings:\n",
       "[1] Standard Errors assume that the covariance matrix of the errors is correctly specified.\n",
       "[2] The condition number is large, 3.62e+03. This might indicate that there are\n",
       "strong multicollinearity or other numerical problems.\n",
       "\"\"\""
      ]
     },
     "execution_count": 50,
     "metadata": {},
     "output_type": "execute_result"
    }
   ],
   "source": [
    "x_sm = sm.add_constant(X.drop(['age'], axis=1))\n",
    "model = sm.OLS(y, x_sm)\n",
    "results = model.fit()\n",
    "results.summary()"
   ]
  },
  {
   "cell_type": "code",
   "execution_count": 51,
   "metadata": {
    "scrolled": true
   },
   "outputs": [
    {
     "data": {
      "text/html": [
       "<table class=\"simpletable\">\n",
       "<caption>OLS Regression Results</caption>\n",
       "<tr>\n",
       "  <th>Dep. Variable:</th>            <td>Y</td>        <th>  R-squared:         </th> <td>   0.294</td>\n",
       "</tr>\n",
       "<tr>\n",
       "  <th>Model:</th>                   <td>OLS</td>       <th>  Adj. R-squared:    </th> <td>   0.281</td>\n",
       "</tr>\n",
       "<tr>\n",
       "  <th>Method:</th>             <td>Least Squares</td>  <th>  F-statistic:       </th> <td>   22.56</td>\n",
       "</tr>\n",
       "<tr>\n",
       "  <th>Date:</th>             <td>Wed, 10 Apr 2019</td> <th>  Prob (F-statistic):</th> <td>7.91e-29</td>\n",
       "</tr>\n",
       "<tr>\n",
       "  <th>Time:</th>                 <td>00:14:02</td>     <th>  Log-Likelihood:    </th> <td> -2470.2</td>\n",
       "</tr>\n",
       "<tr>\n",
       "  <th>No. Observations:</th>      <td>   442</td>      <th>  AIC:               </th> <td>   4958.</td>\n",
       "</tr>\n",
       "<tr>\n",
       "  <th>Df Residuals:</th>          <td>   433</td>      <th>  BIC:               </th> <td>   4995.</td>\n",
       "</tr>\n",
       "<tr>\n",
       "  <th>Df Model:</th>              <td>     8</td>      <th>                     </th>     <td> </td>   \n",
       "</tr>\n",
       "<tr>\n",
       "  <th>Covariance Type:</th>      <td>nonrobust</td>    <th>                     </th>     <td> </td>   \n",
       "</tr>\n",
       "</table>\n",
       "<table class=\"simpletable\">\n",
       "<tr>\n",
       "    <td></td>       <th>coef</th>     <th>std err</th>      <th>t</th>      <th>P>|t|</th>  <th>[0.025</th>    <th>0.975]</th>  \n",
       "</tr>\n",
       "<tr>\n",
       "  <th>const</th> <td>  177.7399</td> <td>   26.117</td> <td>    6.805</td> <td> 0.000</td> <td>  126.407</td> <td>  229.073</td>\n",
       "</tr>\n",
       "<tr>\n",
       "  <th>sex</th>   <td>-1.847e+04</td> <td> 1.13e+04</td> <td>   -1.641</td> <td> 0.102</td> <td>-4.06e+04</td> <td> 3654.075</td>\n",
       "</tr>\n",
       "<tr>\n",
       "  <th>bmi</th>   <td> 5084.5477</td> <td>  959.796</td> <td>    5.298</td> <td> 0.000</td> <td> 3198.110</td> <td> 6970.986</td>\n",
       "</tr>\n",
       "<tr>\n",
       "  <th>bp</th>    <td>  702.5481</td> <td>   67.630</td> <td>   10.388</td> <td> 0.000</td> <td>  569.624</td> <td>  835.472</td>\n",
       "</tr>\n",
       "<tr>\n",
       "  <th>s1</th>    <td> 2895.4822</td> <td> 1809.607</td> <td>    1.600</td> <td> 0.110</td> <td> -661.223</td> <td> 6452.188</td>\n",
       "</tr>\n",
       "<tr>\n",
       "  <th>s2</th>    <td>-3687.4797</td> <td> 1830.931</td> <td>   -2.014</td> <td> 0.045</td> <td>-7286.098</td> <td>  -88.861</td>\n",
       "</tr>\n",
       "<tr>\n",
       "  <th>s3</th>    <td>-2924.0785</td> <td>  859.772</td> <td>   -3.401</td> <td> 0.001</td> <td>-4613.923</td> <td>-1234.234</td>\n",
       "</tr>\n",
       "<tr>\n",
       "  <th>s4</th>    <td> 3663.2737</td> <td> 1119.821</td> <td>    3.271</td> <td> 0.001</td> <td> 1462.312</td> <td> 5864.235</td>\n",
       "</tr>\n",
       "<tr>\n",
       "  <th>s6</th>    <td> 2121.1793</td> <td>  937.694</td> <td>    2.262</td> <td> 0.024</td> <td>  278.181</td> <td> 3964.178</td>\n",
       "</tr>\n",
       "</table>\n",
       "<table class=\"simpletable\">\n",
       "<tr>\n",
       "  <th>Omnibus:</th>       <td>16.112</td> <th>  Durbin-Watson:     </th> <td>   2.097</td>\n",
       "</tr>\n",
       "<tr>\n",
       "  <th>Prob(Omnibus):</th> <td> 0.000</td> <th>  Jarque-Bera (JB):  </th> <td>  11.596</td>\n",
       "</tr>\n",
       "<tr>\n",
       "  <th>Skew:</th>          <td> 0.284</td> <th>  Prob(JB):          </th> <td> 0.00303</td>\n",
       "</tr>\n",
       "<tr>\n",
       "  <th>Kurtosis:</th>      <td> 2.446</td> <th>  Cond. No.          </th> <td>3.62e+03</td>\n",
       "</tr>\n",
       "</table><br/><br/>Warnings:<br/>[1] Standard Errors assume that the covariance matrix of the errors is correctly specified.<br/>[2] The condition number is large, 3.62e+03. This might indicate that there are<br/>strong multicollinearity or other numerical problems."
      ],
      "text/plain": [
       "<class 'statsmodels.iolib.summary.Summary'>\n",
       "\"\"\"\n",
       "                            OLS Regression Results                            \n",
       "==============================================================================\n",
       "Dep. Variable:                      Y   R-squared:                       0.294\n",
       "Model:                            OLS   Adj. R-squared:                  0.281\n",
       "Method:                 Least Squares   F-statistic:                     22.56\n",
       "Date:                Wed, 10 Apr 2019   Prob (F-statistic):           7.91e-29\n",
       "Time:                        00:14:02   Log-Likelihood:                -2470.2\n",
       "No. Observations:                 442   AIC:                             4958.\n",
       "Df Residuals:                     433   BIC:                             4995.\n",
       "Df Model:                           8                                         \n",
       "Covariance Type:            nonrobust                                         \n",
       "==============================================================================\n",
       "                 coef    std err          t      P>|t|      [0.025      0.975]\n",
       "------------------------------------------------------------------------------\n",
       "const        177.7399     26.117      6.805      0.000     126.407     229.073\n",
       "sex        -1.847e+04   1.13e+04     -1.641      0.102   -4.06e+04    3654.075\n",
       "bmi         5084.5477    959.796      5.298      0.000    3198.110    6970.986\n",
       "bp           702.5481     67.630     10.388      0.000     569.624     835.472\n",
       "s1          2895.4822   1809.607      1.600      0.110    -661.223    6452.188\n",
       "s2         -3687.4797   1830.931     -2.014      0.045   -7286.098     -88.861\n",
       "s3         -2924.0785    859.772     -3.401      0.001   -4613.923   -1234.234\n",
       "s4          3663.2737   1119.821      3.271      0.001    1462.312    5864.235\n",
       "s6          2121.1793    937.694      2.262      0.024     278.181    3964.178\n",
       "==============================================================================\n",
       "Omnibus:                       16.112   Durbin-Watson:                   2.097\n",
       "Prob(Omnibus):                  0.000   Jarque-Bera (JB):               11.596\n",
       "Skew:                           0.284   Prob(JB):                      0.00303\n",
       "Kurtosis:                       2.446   Cond. No.                     3.62e+03\n",
       "==============================================================================\n",
       "\n",
       "Warnings:\n",
       "[1] Standard Errors assume that the covariance matrix of the errors is correctly specified.\n",
       "[2] The condition number is large, 3.62e+03. This might indicate that there are\n",
       "strong multicollinearity or other numerical problems.\n",
       "\"\"\""
      ]
     },
     "execution_count": 51,
     "metadata": {},
     "output_type": "execute_result"
    }
   ],
   "source": [
    "x_sm = sm.add_constant(X.drop(['age', 's5'], axis=1))\n",
    "model = sm.OLS(y, x_sm)\n",
    "results = model.fit()\n",
    "results.summary()"
   ]
  },
  {
   "cell_type": "code",
   "execution_count": 52,
   "metadata": {
    "scrolled": true
   },
   "outputs": [
    {
     "data": {
      "text/html": [
       "<table class=\"simpletable\">\n",
       "<caption>OLS Regression Results</caption>\n",
       "<tr>\n",
       "  <th>Dep. Variable:</th>            <td>Y</td>        <th>  R-squared:         </th> <td>   0.290</td>\n",
       "</tr>\n",
       "<tr>\n",
       "  <th>Model:</th>                   <td>OLS</td>       <th>  Adj. R-squared:    </th> <td>   0.279</td>\n",
       "</tr>\n",
       "<tr>\n",
       "  <th>Method:</th>             <td>Least Squares</td>  <th>  F-statistic:       </th> <td>   25.33</td>\n",
       "</tr>\n",
       "<tr>\n",
       "  <th>Date:</th>             <td>Wed, 10 Apr 2019</td> <th>  Prob (F-statistic):</th> <td>5.18e-29</td>\n",
       "</tr>\n",
       "<tr>\n",
       "  <th>Time:</th>                 <td>00:14:18</td>     <th>  Log-Likelihood:    </th> <td> -2471.5</td>\n",
       "</tr>\n",
       "<tr>\n",
       "  <th>No. Observations:</th>      <td>   442</td>      <th>  AIC:               </th> <td>   4959.</td>\n",
       "</tr>\n",
       "<tr>\n",
       "  <th>Df Residuals:</th>          <td>   434</td>      <th>  BIC:               </th> <td>   4992.</td>\n",
       "</tr>\n",
       "<tr>\n",
       "  <th>Df Model:</th>              <td>     7</td>      <th>                     </th>     <td> </td>   \n",
       "</tr>\n",
       "<tr>\n",
       "  <th>Covariance Type:</th>      <td>nonrobust</td>    <th>                     </th>     <td> </td>   \n",
       "</tr>\n",
       "</table>\n",
       "<table class=\"simpletable\">\n",
       "<tr>\n",
       "    <td></td>       <th>coef</th>     <th>std err</th>      <th>t</th>      <th>P>|t|</th>  <th>[0.025</th>    <th>0.975]</th>  \n",
       "</tr>\n",
       "<tr>\n",
       "  <th>const</th> <td>  177.7620</td> <td>   26.164</td> <td>    6.794</td> <td> 0.000</td> <td>  126.337</td> <td>  229.187</td>\n",
       "</tr>\n",
       "<tr>\n",
       "  <th>sex</th>   <td>-1.776e+04</td> <td> 1.13e+04</td> <td>   -1.576</td> <td> 0.116</td> <td>-3.99e+04</td> <td> 4391.757</td>\n",
       "</tr>\n",
       "<tr>\n",
       "  <th>bmi</th>   <td> 5118.3622</td> <td>  961.286</td> <td>    5.324</td> <td> 0.000</td> <td> 3229.007</td> <td> 7007.718</td>\n",
       "</tr>\n",
       "<tr>\n",
       "  <th>bp</th>    <td>  703.0373</td> <td>   67.751</td> <td>   10.377</td> <td> 0.000</td> <td>  569.876</td> <td>  836.198</td>\n",
       "</tr>\n",
       "<tr>\n",
       "  <th>s2</th>    <td>-1236.0355</td> <td> 1004.297</td> <td>   -1.231</td> <td> 0.219</td> <td>-3209.926</td> <td>  737.855</td>\n",
       "</tr>\n",
       "<tr>\n",
       "  <th>s3</th>    <td>-2900.7970</td> <td>  861.192</td> <td>   -3.368</td> <td> 0.001</td> <td>-4593.423</td> <td>-1208.171</td>\n",
       "</tr>\n",
       "<tr>\n",
       "  <th>s4</th>    <td> 3319.8408</td> <td> 1101.033</td> <td>    3.015</td> <td> 0.003</td> <td> 1155.822</td> <td> 5483.860</td>\n",
       "</tr>\n",
       "<tr>\n",
       "  <th>s6</th>    <td> 2126.1931</td> <td>  939.373</td> <td>    2.263</td> <td> 0.024</td> <td>  279.907</td> <td> 3972.479</td>\n",
       "</tr>\n",
       "</table>\n",
       "<table class=\"simpletable\">\n",
       "<tr>\n",
       "  <th>Omnibus:</th>       <td>16.884</td> <th>  Durbin-Watson:     </th> <td>   2.103</td>\n",
       "</tr>\n",
       "<tr>\n",
       "  <th>Prob(Omnibus):</th> <td> 0.000</td> <th>  Jarque-Bera (JB):  </th> <td>  11.522</td>\n",
       "</tr>\n",
       "<tr>\n",
       "  <th>Skew:</th>          <td> 0.271</td> <th>  Prob(JB):          </th> <td> 0.00315</td>\n",
       "</tr>\n",
       "<tr>\n",
       "  <th>Kurtosis:</th>      <td> 2.424</td> <th>  Cond. No.          </th> <td>3.62e+03</td>\n",
       "</tr>\n",
       "</table><br/><br/>Warnings:<br/>[1] Standard Errors assume that the covariance matrix of the errors is correctly specified.<br/>[2] The condition number is large, 3.62e+03. This might indicate that there are<br/>strong multicollinearity or other numerical problems."
      ],
      "text/plain": [
       "<class 'statsmodels.iolib.summary.Summary'>\n",
       "\"\"\"\n",
       "                            OLS Regression Results                            \n",
       "==============================================================================\n",
       "Dep. Variable:                      Y   R-squared:                       0.290\n",
       "Model:                            OLS   Adj. R-squared:                  0.279\n",
       "Method:                 Least Squares   F-statistic:                     25.33\n",
       "Date:                Wed, 10 Apr 2019   Prob (F-statistic):           5.18e-29\n",
       "Time:                        00:14:18   Log-Likelihood:                -2471.5\n",
       "No. Observations:                 442   AIC:                             4959.\n",
       "Df Residuals:                     434   BIC:                             4992.\n",
       "Df Model:                           7                                         \n",
       "Covariance Type:            nonrobust                                         \n",
       "==============================================================================\n",
       "                 coef    std err          t      P>|t|      [0.025      0.975]\n",
       "------------------------------------------------------------------------------\n",
       "const        177.7620     26.164      6.794      0.000     126.337     229.187\n",
       "sex        -1.776e+04   1.13e+04     -1.576      0.116   -3.99e+04    4391.757\n",
       "bmi         5118.3622    961.286      5.324      0.000    3229.007    7007.718\n",
       "bp           703.0373     67.751     10.377      0.000     569.876     836.198\n",
       "s2         -1236.0355   1004.297     -1.231      0.219   -3209.926     737.855\n",
       "s3         -2900.7970    861.192     -3.368      0.001   -4593.423   -1208.171\n",
       "s4          3319.8408   1101.033      3.015      0.003    1155.822    5483.860\n",
       "s6          2126.1931    939.373      2.263      0.024     279.907    3972.479\n",
       "==============================================================================\n",
       "Omnibus:                       16.884   Durbin-Watson:                   2.103\n",
       "Prob(Omnibus):                  0.000   Jarque-Bera (JB):               11.522\n",
       "Skew:                           0.271   Prob(JB):                      0.00315\n",
       "Kurtosis:                       2.424   Cond. No.                     3.62e+03\n",
       "==============================================================================\n",
       "\n",
       "Warnings:\n",
       "[1] Standard Errors assume that the covariance matrix of the errors is correctly specified.\n",
       "[2] The condition number is large, 3.62e+03. This might indicate that there are\n",
       "strong multicollinearity or other numerical problems.\n",
       "\"\"\""
      ]
     },
     "execution_count": 52,
     "metadata": {},
     "output_type": "execute_result"
    }
   ],
   "source": [
    "x_sm = sm.add_constant(X.drop(['age', 's5', 's1'], axis=1))\n",
    "model = sm.OLS(y, x_sm)\n",
    "results = model.fit()\n",
    "results.summary()"
   ]
  },
  {
   "cell_type": "code",
   "execution_count": 53,
   "metadata": {
    "scrolled": true
   },
   "outputs": [
    {
     "data": {
      "text/html": [
       "<table class=\"simpletable\">\n",
       "<caption>OLS Regression Results</caption>\n",
       "<tr>\n",
       "  <th>Dep. Variable:</th>            <td>Y</td>        <th>  R-squared:         </th> <td>   0.288</td>\n",
       "</tr>\n",
       "<tr>\n",
       "  <th>Model:</th>                   <td>OLS</td>       <th>  Adj. R-squared:    </th> <td>   0.278</td>\n",
       "</tr>\n",
       "<tr>\n",
       "  <th>Method:</th>             <td>Least Squares</td>  <th>  F-statistic:       </th> <td>   29.26</td>\n",
       "</tr>\n",
       "<tr>\n",
       "  <th>Date:</th>             <td>Wed, 10 Apr 2019</td> <th>  Prob (F-statistic):</th> <td>1.90e-29</td>\n",
       "</tr>\n",
       "<tr>\n",
       "  <th>Time:</th>                 <td>00:14:33</td>     <th>  Log-Likelihood:    </th> <td> -2472.2</td>\n",
       "</tr>\n",
       "<tr>\n",
       "  <th>No. Observations:</th>      <td>   442</td>      <th>  AIC:               </th> <td>   4958.</td>\n",
       "</tr>\n",
       "<tr>\n",
       "  <th>Df Residuals:</th>          <td>   435</td>      <th>  BIC:               </th> <td>   4987.</td>\n",
       "</tr>\n",
       "<tr>\n",
       "  <th>Df Model:</th>              <td>     6</td>      <th>                     </th>     <td> </td>   \n",
       "</tr>\n",
       "<tr>\n",
       "  <th>Covariance Type:</th>      <td>nonrobust</td>    <th>                     </th>     <td> </td>   \n",
       "</tr>\n",
       "</table>\n",
       "<table class=\"simpletable\">\n",
       "<tr>\n",
       "    <td></td>       <th>coef</th>     <th>std err</th>      <th>t</th>      <th>P>|t|</th>  <th>[0.025</th>    <th>0.975]</th>  \n",
       "</tr>\n",
       "<tr>\n",
       "  <th>const</th> <td>  176.2310</td> <td>   26.150</td> <td>    6.739</td> <td> 0.000</td> <td>  124.834</td> <td>  227.627</td>\n",
       "</tr>\n",
       "<tr>\n",
       "  <th>sex</th>   <td>-1.792e+04</td> <td> 1.13e+04</td> <td>   -1.589</td> <td> 0.113</td> <td>-4.01e+04</td> <td> 4238.683</td>\n",
       "</tr>\n",
       "<tr>\n",
       "  <th>bmi</th>   <td> 5149.3251</td> <td>  961.525</td> <td>    5.355</td> <td> 0.000</td> <td> 3259.512</td> <td> 7039.138</td>\n",
       "</tr>\n",
       "<tr>\n",
       "  <th>bp</th>    <td>  707.8237</td> <td>   67.679</td> <td>   10.458</td> <td> 0.000</td> <td>  574.805</td> <td>  840.843</td>\n",
       "</tr>\n",
       "<tr>\n",
       "  <th>s3</th>    <td>-2700.1071</td> <td>  846.114</td> <td>   -3.191</td> <td> 0.002</td> <td>-4363.087</td> <td>-1037.128</td>\n",
       "</tr>\n",
       "<tr>\n",
       "  <th>s4</th>    <td> 2616.7976</td> <td>  941.814</td> <td>    2.778</td> <td> 0.006</td> <td>  765.725</td> <td> 4467.870</td>\n",
       "</tr>\n",
       "<tr>\n",
       "  <th>s6</th>    <td> 2202.7602</td> <td>  937.865</td> <td>    2.349</td> <td> 0.019</td> <td>  359.450</td> <td> 4046.071</td>\n",
       "</tr>\n",
       "</table>\n",
       "<table class=\"simpletable\">\n",
       "<tr>\n",
       "  <th>Omnibus:</th>       <td>14.850</td> <th>  Durbin-Watson:     </th> <td>   2.085</td>\n",
       "</tr>\n",
       "<tr>\n",
       "  <th>Prob(Omnibus):</th> <td> 0.001</td> <th>  Jarque-Bera (JB):  </th> <td>  10.630</td>\n",
       "</tr>\n",
       "<tr>\n",
       "  <th>Skew:</th>          <td> 0.265</td> <th>  Prob(JB):          </th> <td> 0.00492</td>\n",
       "</tr>\n",
       "<tr>\n",
       "  <th>Kurtosis:</th>      <td> 2.456</td> <th>  Cond. No.          </th> <td>3.62e+03</td>\n",
       "</tr>\n",
       "</table><br/><br/>Warnings:<br/>[1] Standard Errors assume that the covariance matrix of the errors is correctly specified.<br/>[2] The condition number is large, 3.62e+03. This might indicate that there are<br/>strong multicollinearity or other numerical problems."
      ],
      "text/plain": [
       "<class 'statsmodels.iolib.summary.Summary'>\n",
       "\"\"\"\n",
       "                            OLS Regression Results                            \n",
       "==============================================================================\n",
       "Dep. Variable:                      Y   R-squared:                       0.288\n",
       "Model:                            OLS   Adj. R-squared:                  0.278\n",
       "Method:                 Least Squares   F-statistic:                     29.26\n",
       "Date:                Wed, 10 Apr 2019   Prob (F-statistic):           1.90e-29\n",
       "Time:                        00:14:33   Log-Likelihood:                -2472.2\n",
       "No. Observations:                 442   AIC:                             4958.\n",
       "Df Residuals:                     435   BIC:                             4987.\n",
       "Df Model:                           6                                         \n",
       "Covariance Type:            nonrobust                                         \n",
       "==============================================================================\n",
       "                 coef    std err          t      P>|t|      [0.025      0.975]\n",
       "------------------------------------------------------------------------------\n",
       "const        176.2310     26.150      6.739      0.000     124.834     227.627\n",
       "sex        -1.792e+04   1.13e+04     -1.589      0.113   -4.01e+04    4238.683\n",
       "bmi         5149.3251    961.525      5.355      0.000    3259.512    7039.138\n",
       "bp           707.8237     67.679     10.458      0.000     574.805     840.843\n",
       "s3         -2700.1071    846.114     -3.191      0.002   -4363.087   -1037.128\n",
       "s4          2616.7976    941.814      2.778      0.006     765.725    4467.870\n",
       "s6          2202.7602    937.865      2.349      0.019     359.450    4046.071\n",
       "==============================================================================\n",
       "Omnibus:                       14.850   Durbin-Watson:                   2.085\n",
       "Prob(Omnibus):                  0.001   Jarque-Bera (JB):               10.630\n",
       "Skew:                           0.265   Prob(JB):                      0.00492\n",
       "Kurtosis:                       2.456   Cond. No.                     3.62e+03\n",
       "==============================================================================\n",
       "\n",
       "Warnings:\n",
       "[1] Standard Errors assume that the covariance matrix of the errors is correctly specified.\n",
       "[2] The condition number is large, 3.62e+03. This might indicate that there are\n",
       "strong multicollinearity or other numerical problems.\n",
       "\"\"\""
      ]
     },
     "execution_count": 53,
     "metadata": {},
     "output_type": "execute_result"
    }
   ],
   "source": [
    "x_sm = sm.add_constant(X.drop(['age', 's5', 's1', 's2'], axis=1))\n",
    "model = sm.OLS(y, x_sm)\n",
    "results = model.fit()\n",
    "results.summary()"
   ]
  },
  {
   "cell_type": "code",
   "execution_count": 54,
   "metadata": {
    "scrolled": true
   },
   "outputs": [
    {
     "data": {
      "text/html": [
       "<table class=\"simpletable\">\n",
       "<caption>OLS Regression Results</caption>\n",
       "<tr>\n",
       "  <th>Dep. Variable:</th>            <td>Y</td>        <th>  R-squared:         </th> <td>   0.283</td>\n",
       "</tr>\n",
       "<tr>\n",
       "  <th>Model:</th>                   <td>OLS</td>       <th>  Adj. R-squared:    </th> <td>   0.275</td>\n",
       "</tr>\n",
       "<tr>\n",
       "  <th>Method:</th>             <td>Least Squares</td>  <th>  F-statistic:       </th> <td>   34.49</td>\n",
       "</tr>\n",
       "<tr>\n",
       "  <th>Date:</th>             <td>Wed, 10 Apr 2019</td> <th>  Prob (F-statistic):</th> <td>1.05e-29</td>\n",
       "</tr>\n",
       "<tr>\n",
       "  <th>Time:</th>                 <td>00:14:44</td>     <th>  Log-Likelihood:    </th> <td> -2473.5</td>\n",
       "</tr>\n",
       "<tr>\n",
       "  <th>No. Observations:</th>      <td>   442</td>      <th>  AIC:               </th> <td>   4959.</td>\n",
       "</tr>\n",
       "<tr>\n",
       "  <th>Df Residuals:</th>          <td>   436</td>      <th>  BIC:               </th> <td>   4984.</td>\n",
       "</tr>\n",
       "<tr>\n",
       "  <th>Df Model:</th>              <td>     5</td>      <th>                     </th>     <td> </td>   \n",
       "</tr>\n",
       "<tr>\n",
       "  <th>Covariance Type:</th>      <td>nonrobust</td>    <th>                     </th>     <td> </td>   \n",
       "</tr>\n",
       "</table>\n",
       "<table class=\"simpletable\">\n",
       "<tr>\n",
       "    <td></td>       <th>coef</th>     <th>std err</th>      <th>t</th>      <th>P>|t|</th>  <th>[0.025</th>    <th>0.975]</th>  \n",
       "</tr>\n",
       "<tr>\n",
       "  <th>const</th> <td>  135.3663</td> <td>    4.788</td> <td>   28.272</td> <td> 0.000</td> <td>  125.956</td> <td>  144.777</td>\n",
       "</tr>\n",
       "<tr>\n",
       "  <th>bmi</th>   <td> 5254.9191</td> <td>  960.905</td> <td>    5.469</td> <td> 0.000</td> <td> 3366.337</td> <td> 7143.502</td>\n",
       "</tr>\n",
       "<tr>\n",
       "  <th>bp</th>    <td>  682.1984</td> <td>   65.846</td> <td>   10.361</td> <td> 0.000</td> <td>  552.783</td> <td>  811.613</td>\n",
       "</tr>\n",
       "<tr>\n",
       "  <th>s3</th>    <td>-2574.7544</td> <td>  843.904</td> <td>   -3.051</td> <td> 0.002</td> <td>-4233.380</td> <td> -916.129</td>\n",
       "</tr>\n",
       "<tr>\n",
       "  <th>s4</th>    <td> 2491.9190</td> <td>  940.173</td> <td>    2.650</td> <td> 0.008</td> <td>  644.084</td> <td> 4339.754</td>\n",
       "</tr>\n",
       "<tr>\n",
       "  <th>s6</th>    <td> 2239.0303</td> <td>  939.227</td> <td>    2.384</td> <td> 0.018</td> <td>  393.054</td> <td> 4085.006</td>\n",
       "</tr>\n",
       "</table>\n",
       "<table class=\"simpletable\">\n",
       "<tr>\n",
       "  <th>Omnibus:</th>       <td>15.075</td> <th>  Durbin-Watson:     </th> <td>   2.074</td>\n",
       "</tr>\n",
       "<tr>\n",
       "  <th>Prob(Omnibus):</th> <td> 0.001</td> <th>  Jarque-Bera (JB):  </th> <td>  11.282</td>\n",
       "</tr>\n",
       "<tr>\n",
       "  <th>Skew:</th>          <td> 0.287</td> <th>  Prob(JB):          </th> <td> 0.00355</td>\n",
       "</tr>\n",
       "<tr>\n",
       "  <th>Kurtosis:</th>      <td> 2.469</td> <th>  Cond. No.          </th> <td>    341.</td>\n",
       "</tr>\n",
       "</table><br/><br/>Warnings:<br/>[1] Standard Errors assume that the covariance matrix of the errors is correctly specified."
      ],
      "text/plain": [
       "<class 'statsmodels.iolib.summary.Summary'>\n",
       "\"\"\"\n",
       "                            OLS Regression Results                            \n",
       "==============================================================================\n",
       "Dep. Variable:                      Y   R-squared:                       0.283\n",
       "Model:                            OLS   Adj. R-squared:                  0.275\n",
       "Method:                 Least Squares   F-statistic:                     34.49\n",
       "Date:                Wed, 10 Apr 2019   Prob (F-statistic):           1.05e-29\n",
       "Time:                        00:14:44   Log-Likelihood:                -2473.5\n",
       "No. Observations:                 442   AIC:                             4959.\n",
       "Df Residuals:                     436   BIC:                             4984.\n",
       "Df Model:                           5                                         \n",
       "Covariance Type:            nonrobust                                         \n",
       "==============================================================================\n",
       "                 coef    std err          t      P>|t|      [0.025      0.975]\n",
       "------------------------------------------------------------------------------\n",
       "const        135.3663      4.788     28.272      0.000     125.956     144.777\n",
       "bmi         5254.9191    960.905      5.469      0.000    3366.337    7143.502\n",
       "bp           682.1984     65.846     10.361      0.000     552.783     811.613\n",
       "s3         -2574.7544    843.904     -3.051      0.002   -4233.380    -916.129\n",
       "s4          2491.9190    940.173      2.650      0.008     644.084    4339.754\n",
       "s6          2239.0303    939.227      2.384      0.018     393.054    4085.006\n",
       "==============================================================================\n",
       "Omnibus:                       15.075   Durbin-Watson:                   2.074\n",
       "Prob(Omnibus):                  0.001   Jarque-Bera (JB):               11.282\n",
       "Skew:                           0.287   Prob(JB):                      0.00355\n",
       "Kurtosis:                       2.469   Cond. No.                         341.\n",
       "==============================================================================\n",
       "\n",
       "Warnings:\n",
       "[1] Standard Errors assume that the covariance matrix of the errors is correctly specified.\n",
       "\"\"\""
      ]
     },
     "execution_count": 54,
     "metadata": {},
     "output_type": "execute_result"
    }
   ],
   "source": [
    "x_sm = sm.add_constant(X.drop(['age', 's5', 's1', 's2', 'sex'], axis=1))\n",
    "model = sm.OLS(y, x_sm)\n",
    "results = model.fit()\n",
    "results.summary()"
   ]
  },
  {
   "cell_type": "code",
   "execution_count": 55,
   "metadata": {},
   "outputs": [
    {
     "data": {
      "text/plain": [
       "Index(['bmi', 'bp', 's3', 's4', 's6'], dtype='object')"
      ]
     },
     "execution_count": 55,
     "metadata": {},
     "output_type": "execute_result"
    }
   ],
   "source": [
    "X_resultado = X.drop(['age', 's5', 's1', 's2', 'sex'], axis=1)\n",
    "X_resultado.columns"
   ]
  },
  {
   "cell_type": "markdown",
   "metadata": {},
   "source": [
    "# Evaluación"
   ]
  },
  {
   "cell_type": "code",
   "execution_count": 56,
   "metadata": {},
   "outputs": [
    {
     "name": "stdout",
     "output_type": "stream",
     "text": [
      "MSE: 4249.21\n",
      "R2: 0.28\n"
     ]
    },
    {
     "data": {
      "image/png": "[encoded data removed]",
      "text/plain": [
       "<Figure size 504x504 with 1 Axes>"
      ]
     },
     "metadata": {
      "needs_background": "light"
     },
     "output_type": "display_data"
    }
   ],
   "source": [
    "evaluate_model(X_resultado, y)"
   ]
  },
  {
   "cell_type": "code",
   "execution_count": 57,
   "metadata": {},
   "outputs": [
    {
     "name": "stdout",
     "output_type": "stream",
     "text": [
      "R2: 0.25 (+/- 0.15)\n"
     ]
    }
   ],
   "source": [
    "evaluate_model_crossval(X_resultado, y)"
   ]
  },
  {
   "cell_type": "markdown",
   "metadata": {},
   "source": [
    "# Método de selección: SelectKBest"
   ]
  },
  {
   "cell_type": "code",
   "execution_count": 58,
   "metadata": {},
   "outputs": [],
   "source": [
    "from sklearn.feature_selection import SelectKBest\n",
    "from sklearn.feature_selection import f_regression"
   ]
  },
  {
   "cell_type": "markdown",
   "metadata": {},
   "source": [
    "Se selecciona les 6 mejores caracteristicas"
   ]
  },
  {
   "cell_type": "code",
   "execution_count": 59,
   "metadata": {},
   "outputs": [
    {
     "name": "stdout",
     "output_type": "stream",
     "text": [
      "Index(['bmi', 'bp', 's3', 's4', 's5', 's6'], dtype='object')\n"
     ]
    }
   ],
   "source": [
    "selector = SelectKBest(score_func=f_regression, k=6)\n",
    "X_new = selector.fit_transform(X, y)\n",
    "features = df.drop(['Y'], axis=1).columns[selector.get_support()]\n",
    "print(features)"
   ]
  },
  {
   "cell_type": "markdown",
   "metadata": {},
   "source": [
    "Evaluación"
   ]
  },
  {
   "cell_type": "code",
   "execution_count": 60,
   "metadata": {},
   "outputs": [
    {
     "name": "stdout",
     "output_type": "stream",
     "text": [
      "MSE: 4249.19\n",
      "R2: 0.28\n"
     ]
    },
    {
     "data": {
      "image/png": "[encoded data removed]",
      "text/plain": [
       "<Figure size 504x504 with 1 Axes>"
      ]
     },
     "metadata": {
      "needs_background": "light"
     },
     "output_type": "display_data"
    }
   ],
   "source": [
    "evaluate_model(X_new, y)"
   ]
  },
  {
   "cell_type": "markdown",
   "metadata": {},
   "source": [
    "# Red neuronal"
   ]
  },
  {
   "cell_type": "code",
   "execution_count": 61,
   "metadata": {
    "scrolled": false
   },
   "outputs": [],
   "source": [
    "from tensorflow.keras import Sequential\n",
    "from tensorflow.keras.layers import Dense\n",
    "from tensorflow.keras.wrappers.scikit_learn import KerasRegressor"
   ]
  },
  {
   "cell_type": "code",
   "execution_count": 62,
   "metadata": {
    "scrolled": true
   },
   "outputs": [
    {
     "name": "stdout",
     "output_type": "stream",
     "text": [
      "_________________________________________________________________\n",
      "Layer (type)                 Output Shape              Param #   \n",
      "=================================================================\n",
      "dense_6 (Dense)              (None, 6)                 36        \n",
      "_________________________________________________________________\n",
      "dense_7 (Dense)              (None, 12)                84        \n",
      "_________________________________________________________________\n",
      "dense_8 (Dense)              (None, 1)                 13        \n",
      "=================================================================\n",
      "Total params: 133\n",
      "Trainable params: 133\n",
      "Non-trainable params: 0\n",
      "_________________________________________________________________\n"
     ]
    }
   ],
   "source": [
    "model = Sequential()\n",
    "model.add(Dense(units=6, activation='relu', input_shape=(5,)))\n",
    "model.add(Dense(units=12, activation='relu'))\n",
    "model.add(Dense(units=1, activation='linear'))\n",
    "model.compile(loss='mse', optimizer='adam', metrics=['mse','mae'])\n",
    "\n",
    "model.summary()"
   ]
  },
  {
   "cell_type": "code",
   "execution_count": 63,
   "metadata": {},
   "outputs": [],
   "source": [
    "from sklearn.model_selection import train_test_split\n",
    "X_train, X_test, y_train, y_test = train_test_split(X_resultado, y, test_size=0.35, random_state=12345)"
   ]
  },
  {
   "cell_type": "code",
   "execution_count": 64,
   "metadata": {},
   "outputs": [],
   "source": [
    "history = model.fit(X_train, y_train, epochs=150, validation_data=(X_test, y_test), verbose=0)"
   ]
  },
  {
   "cell_type": "code",
   "execution_count": 65,
   "metadata": {},
   "outputs": [
    {
     "data": {
      "image/png": "[encoded data removed]",
      "text/plain": [
       "<Figure size 432x288 with 1 Axes>"
      ]
     },
     "metadata": {
      "needs_background": "light"
     },
     "output_type": "display_data"
    }
   ],
   "source": [
    "y_pred = model.predict(X_test)\n",
    "mean_squared_error(y_test, y_pred)\n",
    "plt.plot(y_test, y_pred, 'x');"
   ]
  }
 ],
 "metadata": {
  "kernelspec": {
   "display_name": "Python 3",
   "language": "python",
   "name": "python3"
  },
  "language_info": {
   "codemirror_mode": {
    "name": "ipython",
    "version": 3
   },
   "file_extension": ".py",
   "mimetype": "text/x-python",
   "name": "python",
   "nbconvert_exporter": "python",
   "pygments_lexer": "ipython3",
   "version": "3.7.3"
  }
 },
 "nbformat": 4,
 "nbformat_minor": 2
}
